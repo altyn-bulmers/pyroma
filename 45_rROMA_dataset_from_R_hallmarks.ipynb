{
 "cells": [
  {
   "cell_type": "markdown",
   "metadata": {},
   "source": [
    "### using pyroma conda env "
   ]
  },
  {
   "cell_type": "code",
   "execution_count": 1,
   "metadata": {},
   "outputs": [
    {
     "name": "stdout",
     "output_type": "stream",
     "text": [
      "/home/az/Projects/01_Curie/05_pyROMA/pyROMA\n",
      "<class 'pyROMA.ROMA.ROMA'>\n"
     ]
    }
   ],
   "source": [
    "import scanpy as sc\n",
    "import time\n",
    "from pyROMA.ROMA import *\n",
    "import os\n",
    "print(os.getcwd())\n",
    "print(ROMA)\n",
    "\n",
    "# Initialize ROMA\n",
    "roma = ROMA()\n",
    "# this should be empty at first\n",
    "roma.adata\n",
    "\n"
   ]
  },
  {
   "cell_type": "code",
   "execution_count": 2,
   "metadata": {},
   "outputs": [
    {
     "data": {
      "text/plain": [
       "\u001b[1m\u001b[92mscROMA\u001b[0m"
      ]
     },
     "execution_count": 2,
     "metadata": {},
     "output_type": "execute_result"
    }
   ],
   "source": [
    "roma"
   ]
  },
  {
   "cell_type": "code",
   "execution_count": 3,
   "metadata": {},
   "outputs": [
    {
     "name": "stdout",
     "output_type": "stream",
     "text": [
      "(19107, 12)\n"
     ]
    },
    {
     "data": {
      "text/html": [
       "<div>\n",
       "<style scoped>\n",
       "    .dataframe tbody tr th:only-of-type {\n",
       "        vertical-align: middle;\n",
       "    }\n",
       "\n",
       "    .dataframe tbody tr th {\n",
       "        vertical-align: top;\n",
       "    }\n",
       "\n",
       "    .dataframe thead th {\n",
       "        text-align: right;\n",
       "    }\n",
       "</style>\n",
       "<table border=\"1\" class=\"dataframe\">\n",
       "  <thead>\n",
       "    <tr style=\"text-align: right;\">\n",
       "      <th></th>\n",
       "      <th>GSM5356205</th>\n",
       "      <th>GSM5356206</th>\n",
       "      <th>GSM5356207</th>\n",
       "      <th>GSM5356208</th>\n",
       "      <th>GSM5356209</th>\n",
       "      <th>GSM5356210</th>\n",
       "      <th>GSM5356217</th>\n",
       "      <th>GSM5356218</th>\n",
       "      <th>GSM5356219</th>\n",
       "      <th>GSM5356220</th>\n",
       "      <th>GSM5356221</th>\n",
       "      <th>GSM5356222</th>\n",
       "    </tr>\n",
       "  </thead>\n",
       "  <tbody>\n",
       "    <tr>\n",
       "      <th>A2M</th>\n",
       "      <td>-2.276695</td>\n",
       "      <td>-2.276695</td>\n",
       "      <td>-2.276695</td>\n",
       "      <td>-2.276695</td>\n",
       "      <td>-2.276695</td>\n",
       "      <td>-2.276695</td>\n",
       "      <td>-2.276695</td>\n",
       "      <td>-2.276695</td>\n",
       "      <td>-2.276695</td>\n",
       "      <td>0.276775</td>\n",
       "      <td>-2.276695</td>\n",
       "      <td>-2.276695</td>\n",
       "    </tr>\n",
       "    <tr>\n",
       "      <th>NAT2</th>\n",
       "      <td>-0.529709</td>\n",
       "      <td>-1.701147</td>\n",
       "      <td>-1.186181</td>\n",
       "      <td>-1.784351</td>\n",
       "      <td>0.015076</td>\n",
       "      <td>-0.821612</td>\n",
       "      <td>-0.985824</td>\n",
       "      <td>-0.070284</td>\n",
       "      <td>-2.276695</td>\n",
       "      <td>0.173414</td>\n",
       "      <td>-0.629473</td>\n",
       "      <td>-0.258930</td>\n",
       "    </tr>\n",
       "    <tr>\n",
       "      <th>ACADM</th>\n",
       "      <td>7.426065</td>\n",
       "      <td>7.734505</td>\n",
       "      <td>7.554314</td>\n",
       "      <td>7.304610</td>\n",
       "      <td>7.298017</td>\n",
       "      <td>7.432436</td>\n",
       "      <td>7.630496</td>\n",
       "      <td>7.574262</td>\n",
       "      <td>6.923768</td>\n",
       "      <td>7.805810</td>\n",
       "      <td>7.493325</td>\n",
       "      <td>7.449435</td>\n",
       "    </tr>\n",
       "    <tr>\n",
       "      <th>ACADS</th>\n",
       "      <td>5.289551</td>\n",
       "      <td>5.117106</td>\n",
       "      <td>5.228877</td>\n",
       "      <td>5.227824</td>\n",
       "      <td>5.160557</td>\n",
       "      <td>5.624386</td>\n",
       "      <td>4.466059</td>\n",
       "      <td>5.670722</td>\n",
       "      <td>5.132320</td>\n",
       "      <td>5.266203</td>\n",
       "      <td>5.207499</td>\n",
       "      <td>5.516344</td>\n",
       "    </tr>\n",
       "    <tr>\n",
       "      <th>ACADVL</th>\n",
       "      <td>-2.276695</td>\n",
       "      <td>4.346211</td>\n",
       "      <td>-2.276695</td>\n",
       "      <td>5.275499</td>\n",
       "      <td>0.354508</td>\n",
       "      <td>6.596574</td>\n",
       "      <td>2.555607</td>\n",
       "      <td>0.866217</td>\n",
       "      <td>3.231686</td>\n",
       "      <td>-1.419318</td>\n",
       "      <td>2.670606</td>\n",
       "      <td>3.046472</td>\n",
       "    </tr>\n",
       "  </tbody>\n",
       "</table>\n",
       "</div>"
      ],
      "text/plain": [
       "        GSM5356205  GSM5356206  GSM5356207  GSM5356208  GSM5356209  \\\n",
       "A2M      -2.276695   -2.276695   -2.276695   -2.276695   -2.276695   \n",
       "NAT2     -0.529709   -1.701147   -1.186181   -1.784351    0.015076   \n",
       "ACADM     7.426065    7.734505    7.554314    7.304610    7.298017   \n",
       "ACADS     5.289551    5.117106    5.228877    5.227824    5.160557   \n",
       "ACADVL   -2.276695    4.346211   -2.276695    5.275499    0.354508   \n",
       "\n",
       "        GSM5356210  GSM5356217  GSM5356218  GSM5356219  GSM5356220  \\\n",
       "A2M      -2.276695   -2.276695   -2.276695   -2.276695    0.276775   \n",
       "NAT2     -0.821612   -0.985824   -0.070284   -2.276695    0.173414   \n",
       "ACADM     7.432436    7.630496    7.574262    6.923768    7.805810   \n",
       "ACADS     5.624386    4.466059    5.670722    5.132320    5.266203   \n",
       "ACADVL    6.596574    2.555607    0.866217    3.231686   -1.419318   \n",
       "\n",
       "        GSM5356221  GSM5356222  \n",
       "A2M      -2.276695   -2.276695  \n",
       "NAT2     -0.629473   -0.258930  \n",
       "ACADM     7.493325    7.449435  \n",
       "ACADS     5.207499    5.516344  \n",
       "ACADVL    2.670606    3.046472  "
      ]
     },
     "execution_count": 3,
     "metadata": {},
     "output_type": "execute_result"
    }
   ],
   "source": [
    "import pandas as pd\n",
    "\n",
    "df = pd.read_csv('datasets/from_R/rheman-cf-ncf-rna-exp-matrix-norm.tsv', sep='\\t')\n",
    "print(df.shape)\n",
    "df.head()"
   ]
  },
  {
   "cell_type": "code",
   "execution_count": 4,
   "metadata": {},
   "outputs": [
    {
     "name": "stdout",
     "output_type": "stream",
     "text": [
      "(12, 3)\n"
     ]
    },
    {
     "data": {
      "text/html": [
       "<div>\n",
       "<style scoped>\n",
       "    .dataframe tbody tr th:only-of-type {\n",
       "        vertical-align: middle;\n",
       "    }\n",
       "\n",
       "    .dataframe tbody tr th {\n",
       "        vertical-align: top;\n",
       "    }\n",
       "\n",
       "    .dataframe thead th {\n",
       "        text-align: right;\n",
       "    }\n",
       "</style>\n",
       "<table border=\"1\" class=\"dataframe\">\n",
       "  <thead>\n",
       "    <tr style=\"text-align: right;\">\n",
       "      <th></th>\n",
       "      <th>sample_id</th>\n",
       "      <th>Type</th>\n",
       "      <th>CF_sample_id</th>\n",
       "    </tr>\n",
       "  </thead>\n",
       "  <tbody>\n",
       "    <tr>\n",
       "      <th>1</th>\n",
       "      <td>GSM5356205</td>\n",
       "      <td>non_CF</td>\n",
       "      <td>non_CF 1</td>\n",
       "    </tr>\n",
       "    <tr>\n",
       "      <th>2</th>\n",
       "      <td>GSM5356206</td>\n",
       "      <td>non_CF</td>\n",
       "      <td>non_CF 2</td>\n",
       "    </tr>\n",
       "    <tr>\n",
       "      <th>3</th>\n",
       "      <td>GSM5356207</td>\n",
       "      <td>non_CF</td>\n",
       "      <td>non_CF 3</td>\n",
       "    </tr>\n",
       "    <tr>\n",
       "      <th>4</th>\n",
       "      <td>GSM5356208</td>\n",
       "      <td>non_CF</td>\n",
       "      <td>non_CF 4</td>\n",
       "    </tr>\n",
       "    <tr>\n",
       "      <th>5</th>\n",
       "      <td>GSM5356209</td>\n",
       "      <td>non_CF</td>\n",
       "      <td>non_CF 5</td>\n",
       "    </tr>\n",
       "  </tbody>\n",
       "</table>\n",
       "</div>"
      ],
      "text/plain": [
       "    sample_id    Type CF_sample_id\n",
       "1  GSM5356205  non_CF     non_CF 1\n",
       "2  GSM5356206  non_CF     non_CF 2\n",
       "3  GSM5356207  non_CF     non_CF 3\n",
       "4  GSM5356208  non_CF     non_CF 4\n",
       "5  GSM5356209  non_CF     non_CF 5"
      ]
     },
     "execution_count": 4,
     "metadata": {},
     "output_type": "execute_result"
    }
   ],
   "source": [
    "sample_labels = pd.read_csv('datasets/from_R/rheman-cf-ncf-rna-exp-matrix-norm-sample_labels.tsv', sep='\\t')\n",
    "print(sample_labels.shape)\n",
    "sample_labels.head()"
   ]
  },
  {
   "cell_type": "code",
   "execution_count": 5,
   "metadata": {},
   "outputs": [
    {
     "data": {
      "text/html": [
       "<div>\n",
       "<style scoped>\n",
       "    .dataframe tbody tr th:only-of-type {\n",
       "        vertical-align: middle;\n",
       "    }\n",
       "\n",
       "    .dataframe tbody tr th {\n",
       "        vertical-align: top;\n",
       "    }\n",
       "\n",
       "    .dataframe thead th {\n",
       "        text-align: right;\n",
       "    }\n",
       "</style>\n",
       "<table border=\"1\" class=\"dataframe\">\n",
       "  <thead>\n",
       "    <tr style=\"text-align: right;\">\n",
       "      <th></th>\n",
       "      <th>sample_id</th>\n",
       "      <th>Type</th>\n",
       "      <th>CF_sample_id</th>\n",
       "    </tr>\n",
       "  </thead>\n",
       "  <tbody>\n",
       "    <tr>\n",
       "      <th>8</th>\n",
       "      <td>GSM5356218</td>\n",
       "      <td>CF</td>\n",
       "      <td>CF 2</td>\n",
       "    </tr>\n",
       "    <tr>\n",
       "      <th>9</th>\n",
       "      <td>GSM5356219</td>\n",
       "      <td>CF</td>\n",
       "      <td>CF 3</td>\n",
       "    </tr>\n",
       "    <tr>\n",
       "      <th>10</th>\n",
       "      <td>GSM5356220</td>\n",
       "      <td>CF</td>\n",
       "      <td>CF 4</td>\n",
       "    </tr>\n",
       "    <tr>\n",
       "      <th>11</th>\n",
       "      <td>GSM5356221</td>\n",
       "      <td>CF</td>\n",
       "      <td>CF 5</td>\n",
       "    </tr>\n",
       "    <tr>\n",
       "      <th>12</th>\n",
       "      <td>GSM5356222</td>\n",
       "      <td>CF</td>\n",
       "      <td>CF 6</td>\n",
       "    </tr>\n",
       "  </tbody>\n",
       "</table>\n",
       "</div>"
      ],
      "text/plain": [
       "     sample_id Type CF_sample_id\n",
       "8   GSM5356218   CF         CF 2\n",
       "9   GSM5356219   CF         CF 3\n",
       "10  GSM5356220   CF         CF 4\n",
       "11  GSM5356221   CF         CF 5\n",
       "12  GSM5356222   CF         CF 6"
      ]
     },
     "execution_count": 5,
     "metadata": {},
     "output_type": "execute_result"
    }
   ],
   "source": [
    "sample_labels.tail()"
   ]
  },
  {
   "cell_type": "code",
   "execution_count": 6,
   "metadata": {},
   "outputs": [
    {
     "data": {
      "text/plain": [
       "AnnData object with n_obs × n_vars = 12 × 19107"
      ]
     },
     "execution_count": 6,
     "metadata": {},
     "output_type": "execute_result"
    }
   ],
   "source": [
    "import anndata\n",
    "adata = anndata.AnnData(df.T)\n",
    "adata"
   ]
  },
  {
   "cell_type": "code",
   "execution_count": 7,
   "metadata": {},
   "outputs": [],
   "source": [
    "#adata.obs = sample_labels\n",
    "#adata.obs"
   ]
  },
  {
   "cell_type": "code",
   "execution_count": 8,
   "metadata": {},
   "outputs": [
    {
     "data": {
      "text/html": [
       "<div>\n",
       "<style scoped>\n",
       "    .dataframe tbody tr th:only-of-type {\n",
       "        vertical-align: middle;\n",
       "    }\n",
       "\n",
       "    .dataframe tbody tr th {\n",
       "        vertical-align: top;\n",
       "    }\n",
       "\n",
       "    .dataframe thead th {\n",
       "        text-align: right;\n",
       "    }\n",
       "</style>\n",
       "<table border=\"1\" class=\"dataframe\">\n",
       "  <thead>\n",
       "    <tr style=\"text-align: right;\">\n",
       "      <th></th>\n",
       "    </tr>\n",
       "  </thead>\n",
       "  <tbody>\n",
       "    <tr>\n",
       "      <th>A2M</th>\n",
       "    </tr>\n",
       "    <tr>\n",
       "      <th>NAT2</th>\n",
       "    </tr>\n",
       "    <tr>\n",
       "      <th>ACADM</th>\n",
       "    </tr>\n",
       "    <tr>\n",
       "      <th>ACADS</th>\n",
       "    </tr>\n",
       "    <tr>\n",
       "      <th>ACADVL</th>\n",
       "    </tr>\n",
       "    <tr>\n",
       "      <th>...</th>\n",
       "    </tr>\n",
       "    <tr>\n",
       "      <th>SLC16A12</th>\n",
       "    </tr>\n",
       "    <tr>\n",
       "      <th>C2orf66</th>\n",
       "    </tr>\n",
       "    <tr>\n",
       "      <th>SFXN4</th>\n",
       "    </tr>\n",
       "    <tr>\n",
       "      <th>KRT39</th>\n",
       "    </tr>\n",
       "    <tr>\n",
       "      <th>PRR27</th>\n",
       "    </tr>\n",
       "  </tbody>\n",
       "</table>\n",
       "<p>19107 rows × 0 columns</p>\n",
       "</div>"
      ],
      "text/plain": [
       "Empty DataFrame\n",
       "Columns: []\n",
       "Index: [A2M, NAT2, ACADM, ACADS, ACADVL, ACAT1, ACVRL1, PSEN1, ADA, SGCA, ADRB2, ADRB3, ADSL, AGA, AGL, AGXT, ALAD, ALAS2, ABCD1, ALDOB, AMPD1, ANK1, APC, APOA1, APOC3, APOE, APOH, FAS, AR, ARG1, ARSB, ARSL, ASL, ASPA, ASS1, ATM, ATP7A, ATP7B, AVPR2, BCHE, BCKDHB, BLM, BRCA2, BTK, SERPING1, C2, C3, C6, C8B, CA2, CACNA1A, CACNA1S, CAPN3, CBS, CD36, CD3G, CD40LG, CDK4, CDKN1C, CDKN2A, CETP, CHRNA1, CHRNE, LYST, ERCC8, CLCN1, CLCN5, CLCNKB, CLN3, CNGA1, COL1A1, COL1A2, COL3A1, COL4A3, COL4A4, COL5A1, COL7A1, COMP, CP, CPOX, CPT2, CST3, CSTB, CYBA, CYP17A1, CYP19A1, CYP1B1, CYP2D6, DDB2, DLD, DMD, DPYD, SLC26A3, SLC26A2, TOR1A, EDNRB, TAFAZZIN, EMD, ENG, EPB42, ...]\n",
       "\n",
       "[19107 rows x 0 columns]"
      ]
     },
     "execution_count": 8,
     "metadata": {},
     "output_type": "execute_result"
    }
   ],
   "source": [
    "adata.var"
   ]
  },
  {
   "cell_type": "code",
   "execution_count": 9,
   "metadata": {},
   "outputs": [
    {
     "name": "stdout",
     "output_type": "stream",
     "text": [
      "AnnData object with n_obs × n_vars = 12 × 19107\n"
     ]
    }
   ],
   "source": [
    "roma.adata = adata\n",
    "print(roma.adata)"
   ]
  },
  {
   "cell_type": "markdown",
   "metadata": {},
   "source": [
    "### optional steps  if data is not normalized or needs further filtering "
   ]
  },
  {
   "cell_type": "code",
   "execution_count": 10,
   "metadata": {},
   "outputs": [],
   "source": [
    "# Download and preprocess adata\n",
    "#adata = sc.read_h5ad('datasets/rna_10xpmbc3k.h5ad')\n",
    "#sc.pp.filter_cells(adata, min_genes = 200)\n",
    "#sc.pp.filter_genes(adata, min_cells = 3)\n",
    "\n",
    "#c.pp.normalize_total(adata, target_sum=1e4)\n",
    "#sc.pp.log1p(adata)\n",
    "\n",
    "#sc.pp.highly_variable_genes(adata, n_top_genes=5000)#, flavor='seurat_v3')\n",
    "#adata = adata[:, adata.var.highly_variable]\n",
    "#adata = adata[adata.obs['celltype'] == 'B']\n",
    "#adata.X = adata.X.todense()\n"
   ]
  },
  {
   "cell_type": "code",
   "execution_count": 11,
   "metadata": {},
   "outputs": [],
   "source": [
    "# Initialize the pathway file by providing its name\n",
    "roma.gmt ='h.all.v2023.1.Hs.symbols'"
   ]
  },
  {
   "cell_type": "code",
   "execution_count": 12,
   "metadata": {},
   "outputs": [],
   "source": [
    "pathways = roma.read_gmt_to_dict('h.all.v2023.1.Hs.symbols')"
   ]
  },
  {
   "cell_type": "code",
   "execution_count": 13,
   "metadata": {},
   "outputs": [
    {
     "name": "stdout",
     "output_type": "stream",
     "text": [
      "['PICAL', 'SURFACE', 'FATTY', 'ACID METABOLISM', 'OAGULATION', 'IL-17', 'IL', 'INTERLEUKIN-17', 'TNF', 'ILIUM', 'EMOSTASIS']\n",
      "HALLMARK_TNFA_SIGNALING_VIA_NFKB\n",
      "HALLMARK_IL6_JAK_STAT3_SIGNALING\n",
      "HALLMARK_APICAL_JUNCTION\n",
      "HALLMARK_APICAL_SURFACE\n",
      "HALLMARK_APICAL_SURFACE\n",
      "HALLMARK_FATTY_ACID_METABOLISM\n",
      "HALLMARK_COAGULATION\n",
      "HALLMARK_IL2_STAT5_SIGNALING\n",
      "HALLMARK_BILE_ACID_METABOLISM\n"
     ]
    }
   ],
   "source": [
    "query = ['pical', 'surface', 'fatty', 'acid metabolism', 'oagulation', 'IL-17', 'IL', 'interleukin-17', 'TNF', 'ilium', 'emostasis'] \n",
    "query_upper = [x.upper() for x in query]\n",
    "print(query_upper)\n",
    "for k, v in pathways.items():\n",
    "    for x in query_upper:\n",
    "        if x in k:\n",
    "            print(k)"
   ]
  },
  {
   "cell_type": "code",
   "execution_count": 14,
   "metadata": {},
   "outputs": [],
   "source": [
    "# This variable specifies Which pathways to check\n",
    "# alternatively: pathways_to_check = 'all' will check all the pathways in the reactome .gmt file \n",
    "\n",
    "pathways_to_check = 'all'\n",
    "\n",
    "# pathways_to_check = ['HALLMARK_TNFA_SIGNALING_VIA_NFKB',\n",
    "#     'HALLMARK_IL6_JAK_STAT3_SIGNALING',\n",
    "#     'HALLMARK_APICAL_JUNCTION',\n",
    "#     'HALLMARK_APICAL_SURFACE',\n",
    "#     'HALLMARK_APICAL_SURFACE',\n",
    "#     'HALLMARK_COAGULATION',\n",
    "#     'HALLMARK_IL2_STAT5_SIGNALING',\n",
    "#     'HALLMARK_BILE_ACID_METABOLISM']\n"
   ]
  },
  {
   "cell_type": "code",
   "execution_count": 15,
   "metadata": {},
   "outputs": [
    {
     "data": {
      "text/plain": [
       "\u001b[1m\u001b[92mscROMA\u001b[0m"
      ]
     },
     "execution_count": 15,
     "metadata": {},
     "output_type": "execute_result"
    }
   ],
   "source": [
    "roma"
   ]
  },
  {
   "cell_type": "code",
   "execution_count": 16,
   "metadata": {},
   "outputs": [
    {
     "data": {
      "text/plain": [
       "10"
      ]
     },
     "execution_count": 16,
     "metadata": {},
     "output_type": "execute_result"
    }
   ],
   "source": [
    "# Filter pathways that have less genes than min_n_number\n",
    "roma.min_n_genes"
   ]
  },
  {
   "cell_type": "code",
   "execution_count": 17,
   "metadata": {},
   "outputs": [],
   "source": [
    "# Granularity of the null geneset size, from 0 to 100, less is more precise\n",
    "roma.approx_int = 1"
   ]
  },
  {
   "cell_type": "code",
   "execution_count": 18,
   "metadata": {},
   "outputs": [
    {
     "name": "stdout",
     "output_type": "stream",
     "text": [
      "Processing gene set: \u001b[1m\u001b[36mHALLMARK_NOTCH_SIGNALING\u001b[0m | len of subsetlist: \u001b[1m 32 \u001b[0m\n"
     ]
    },
    {
     "name": "stdout",
     "output_type": "stream",
     "text": [
      "Processing gene set: \u001b[1m\u001b[36mHALLMARK_HEDGEHOG_SIGNALING\u001b[0m | len of subsetlist: \u001b[1m 36 \u001b[0m\n",
      "Processing gene set: \u001b[1m\u001b[36mHALLMARK_ANGIOGENESIS\u001b[0m | len of subsetlist: \u001b[1m 36 \u001b[0m\n",
      "took null distribution from previous calculation\n",
      "Processing gene set: \u001b[1m\u001b[36mHALLMARK_PANCREAS_BETA_CELLS\u001b[0m | len of subsetlist: \u001b[1m 39 \u001b[0m\n",
      "Processing gene set: \u001b[1m\u001b[36mHALLMARK_WNT_BETA_CATENIN_SIGNALING\u001b[0m | len of subsetlist: \u001b[1m 42 \u001b[0m\n",
      "Processing gene set: \u001b[1m\u001b[36mHALLMARK_APICAL_SURFACE\u001b[0m | len of subsetlist: \u001b[1m 44 \u001b[0m\n",
      "Processing gene set: \u001b[1m\u001b[36mHALLMARK_REACTIVE_OXYGEN_SPECIES_PATHWAY\u001b[0m | len of subsetlist: \u001b[1m 49 \u001b[0m\n",
      "Processing gene set: \u001b[1m\u001b[36mHALLMARK_TGF_BETA_SIGNALING\u001b[0m | len of subsetlist: \u001b[1m 54 \u001b[0m\n",
      "Processing gene set: \u001b[1m\u001b[36mHALLMARK_MYC_TARGETS_V2\u001b[0m | len of subsetlist: \u001b[1m 57 \u001b[0m\n",
      "Processing gene set: \u001b[1m\u001b[36mHALLMARK_CHOLESTEROL_HOMEOSTASIS\u001b[0m | len of subsetlist: \u001b[1m 74 \u001b[0m\n",
      "Processing gene set: \u001b[1m\u001b[36mHALLMARK_IL6_JAK_STAT3_SIGNALING\u001b[0m | len of subsetlist: \u001b[1m 87 \u001b[0m\n",
      "Processing gene set: \u001b[1m\u001b[36mHALLMARK_PROTEIN_SECRETION\u001b[0m | len of subsetlist: \u001b[1m 96 \u001b[0m\n",
      "Processing gene set: \u001b[1m\u001b[36mHALLMARK_INTERFERON_ALPHA_RESPONSE\u001b[0m | len of subsetlist: \u001b[1m 97 \u001b[0m\n",
      "took null distribution from previous calculation\n",
      "Processing gene set: \u001b[1m\u001b[36mHALLMARK_ANDROGEN_RESPONSE\u001b[0m | len of subsetlist: \u001b[1m 100 \u001b[0m\n",
      "Processing gene set: \u001b[1m\u001b[36mHALLMARK_PEROXISOME\u001b[0m | len of subsetlist: \u001b[1m 104 \u001b[0m\n",
      "Processing gene set: \u001b[1m\u001b[36mHALLMARK_PI3K_AKT_MTOR_SIGNALING\u001b[0m | len of subsetlist: \u001b[1m 105 \u001b[0m\n",
      "took null distribution from previous calculation\n",
      "Processing gene set: \u001b[1m\u001b[36mHALLMARK_BILE_ACID_METABOLISM\u001b[0m | len of subsetlist: \u001b[1m 112 \u001b[0m\n",
      "Processing gene set: \u001b[1m\u001b[36mHALLMARK_UNFOLDED_PROTEIN_RESPONSE\u001b[0m | len of subsetlist: \u001b[1m 111 \u001b[0m\n",
      "took null distribution from previous calculation\n",
      "Processing gene set: \u001b[1m\u001b[36mHALLMARK_SPERMATOGENESIS\u001b[0m | len of subsetlist: \u001b[1m 135 \u001b[0m\n",
      "Processing gene set: \u001b[1m\u001b[36mHALLMARK_COAGULATION\u001b[0m | len of subsetlist: \u001b[1m 137 \u001b[0m\n",
      "Processing gene set: \u001b[1m\u001b[36mHALLMARK_UV_RESPONSE_DN\u001b[0m | len of subsetlist: \u001b[1m 144 \u001b[0m\n",
      "Processing gene set: \u001b[1m\u001b[36mHALLMARK_DNA_REPAIR\u001b[0m | len of subsetlist: \u001b[1m 149 \u001b[0m\n",
      "Processing gene set: \u001b[1m\u001b[36mHALLMARK_FATTY_ACID_METABOLISM\u001b[0m | len of subsetlist: \u001b[1m 157 \u001b[0m\n",
      "Processing gene set: \u001b[1m\u001b[36mHALLMARK_UV_RESPONSE_UP\u001b[0m | len of subsetlist: \u001b[1m 158 \u001b[0m\n",
      "took null distribution from previous calculation\n",
      "Processing gene set: \u001b[1m\u001b[36mHALLMARK_APOPTOSIS\u001b[0m | len of subsetlist: \u001b[1m 161 \u001b[0m\n",
      "Processing gene set: \u001b[1m\u001b[36mHALLMARK_MITOTIC_SPINDLE\u001b[0m | len of subsetlist: \u001b[1m 199 \u001b[0m\n",
      "Processing gene set: \u001b[1m\u001b[36mHALLMARK_IL2_STAT5_SIGNALING\u001b[0m | len of subsetlist: \u001b[1m 198 \u001b[0m\n",
      "took null distribution from previous calculation\n",
      "Processing gene set: \u001b[1m\u001b[36mHALLMARK_TNFA_SIGNALING_VIA_NFKB\u001b[0m | len of subsetlist: \u001b[1m 199 \u001b[0m\n",
      "took null distribution from previous calculation\n",
      "Processing gene set: \u001b[1m\u001b[36mHALLMARK_HYPOXIA\u001b[0m | len of subsetlist: \u001b[1m 200 \u001b[0m\n",
      "took null distribution from previous calculation\n",
      "Processing gene set: \u001b[1m\u001b[36mHALLMARK_G2M_CHECKPOINT\u001b[0m | len of subsetlist: \u001b[1m 199 \u001b[0m\n",
      "took null distribution from previous calculation\n",
      "Processing gene set: \u001b[1m\u001b[36mHALLMARK_ADIPOGENESIS\u001b[0m | len of subsetlist: \u001b[1m 199 \u001b[0m\n",
      "took null distribution from previous calculation\n",
      "Processing gene set: \u001b[1m\u001b[36mHALLMARK_ESTROGEN_RESPONSE_EARLY\u001b[0m | len of subsetlist: \u001b[1m 200 \u001b[0m\n",
      "took null distribution from previous calculation\n",
      "Processing gene set: \u001b[1m\u001b[36mHALLMARK_ESTROGEN_RESPONSE_LATE\u001b[0m | len of subsetlist: \u001b[1m 200 \u001b[0m\n",
      "took null distribution from previous calculation\n",
      "Processing gene set: \u001b[1m\u001b[36mHALLMARK_MYOGENESIS\u001b[0m | len of subsetlist: \u001b[1m 199 \u001b[0m\n",
      "took null distribution from previous calculation\n",
      "Processing gene set: \u001b[1m\u001b[36mHALLMARK_INTERFERON_GAMMA_RESPONSE\u001b[0m | len of subsetlist: \u001b[1m 199 \u001b[0m\n",
      "took null distribution from previous calculation\n",
      "Processing gene set: \u001b[1m\u001b[36mHALLMARK_APICAL_JUNCTION\u001b[0m | len of subsetlist: \u001b[1m 200 \u001b[0m\n",
      "took null distribution from previous calculation\n",
      "Processing gene set: \u001b[1m\u001b[36mHALLMARK_COMPLEMENT\u001b[0m | len of subsetlist: \u001b[1m 200 \u001b[0m\n",
      "took null distribution from previous calculation\n",
      "Processing gene set: \u001b[1m\u001b[36mHALLMARK_MTORC1_SIGNALING\u001b[0m | len of subsetlist: \u001b[1m 200 \u001b[0m\n",
      "took null distribution from previous calculation\n",
      "Processing gene set: \u001b[1m\u001b[36mHALLMARK_E2F_TARGETS\u001b[0m | len of subsetlist: \u001b[1m 200 \u001b[0m\n",
      "took null distribution from previous calculation\n",
      "Processing gene set: \u001b[1m\u001b[36mHALLMARK_MYC_TARGETS_V1\u001b[0m | len of subsetlist: \u001b[1m 199 \u001b[0m\n",
      "took null distribution from previous calculation\n",
      "Processing gene set: \u001b[1m\u001b[36mHALLMARK_EPITHELIAL_MESENCHYMAL_TRANSITION\u001b[0m | len of subsetlist: \u001b[1m 200 \u001b[0m\n",
      "took null distribution from previous calculation\n",
      "Processing gene set: \u001b[1m\u001b[36mHALLMARK_INFLAMMATORY_RESPONSE\u001b[0m | len of subsetlist: \u001b[1m 200 \u001b[0m\n",
      "took null distribution from previous calculation\n",
      "Processing gene set: \u001b[1m\u001b[36mHALLMARK_XENOBIOTIC_METABOLISM\u001b[0m | len of subsetlist: \u001b[1m 200 \u001b[0m\n",
      "took null distribution from previous calculation\n",
      "Processing gene set: \u001b[1m\u001b[36mHALLMARK_OXIDATIVE_PHOSPHORYLATION\u001b[0m | len of subsetlist: \u001b[1m 200 \u001b[0m\n",
      "took null distribution from previous calculation\n",
      "Processing gene set: \u001b[1m\u001b[36mHALLMARK_GLYCOLYSIS\u001b[0m | len of subsetlist: \u001b[1m 200 \u001b[0m\n",
      "took null distribution from previous calculation\n",
      "Processing gene set: \u001b[1m\u001b[36mHALLMARK_P53_PATHWAY\u001b[0m | len of subsetlist: \u001b[1m 198 \u001b[0m\n",
      "took null distribution from previous calculation\n",
      "Processing gene set: \u001b[1m\u001b[36mHALLMARK_HEME_METABOLISM\u001b[0m | len of subsetlist: \u001b[1m 198 \u001b[0m\n",
      "took null distribution from previous calculation\n",
      "Processing gene set: \u001b[1m\u001b[36mHALLMARK_ALLOGRAFT_REJECTION\u001b[0m | len of subsetlist: \u001b[1m 200 \u001b[0m\n",
      "took null distribution from previous calculation\n",
      "Processing gene set: \u001b[1m\u001b[36mHALLMARK_KRAS_SIGNALING_UP\u001b[0m | len of subsetlist: \u001b[1m 200 \u001b[0m\n",
      "took null distribution from previous calculation\n",
      "Processing gene set: \u001b[1m\u001b[36mHALLMARK_KRAS_SIGNALING_DN\u001b[0m | len of subsetlist: \u001b[1m 199 \u001b[0m\n",
      "took null distribution from previous calculation\n",
      "raw p-values [0.33333333 0.66666667 0.33333333 0.33333333 0.33333333 0.66666667\n",
      " 0.33333333 0.66666667 0.33333333 0.33333333 0.33333333 0.66666667\n",
      " 0.66666667 0.33333333 0.33333333 0.33333333 0.66666667 0.33333333\n",
      " 1.         0.33333333 0.33333333 0.66666667 0.66666667 1.\n",
      " 0.33333333 0.33333333 0.33333333 0.33333333 0.33333333 0.33333333\n",
      " 0.33333333 0.33333333 0.33333333 0.33333333 0.33333333 0.33333333\n",
      " 0.33333333 0.33333333 0.33333333 0.33333333 0.33333333 0.33333333\n",
      " 0.33333333 0.33333333 0.33333333 0.33333333 0.33333333 0.33333333\n",
      " 0.33333333 0.33333333]\n",
      "raw q-values [5.29470529e-01 7.45254745e-01 9.90009990e-01 3.84615385e-01\n",
      " 5.89410589e-02 2.62737263e-01 2.07792208e-01 9.62037962e-01\n",
      " 9.39060939e-02 9.96003996e-01 3.49650350e-02 3.80619381e-01\n",
      " 6.99300699e-03 9.93006993e-01 3.89610390e-02 1.72827173e-01\n",
      " 1.29870130e-02 8.41158841e-01 2.87712288e-01 2.49750250e-02\n",
      " 9.60039960e-01 1.00000000e+00 6.17382617e-01 2.30769231e-01\n",
      " 6.43356643e-01 8.12187812e-01 1.95804196e-01 6.99300699e-03\n",
      " 3.59640360e-01 8.99100899e-03 1.55844156e-01 1.11888112e-01\n",
      " 4.43556444e-01 5.37462537e-01 9.99000999e-04 1.57842158e-01\n",
      " 1.71828172e-01 1.93806194e-01 3.49650350e-01 2.69730270e-02\n",
      " 8.99100899e-02 1.28871129e-01 2.78721279e-01 2.43756244e-01\n",
      " 1.37862138e-01 2.80719281e-01 3.40659341e-01 1.96803197e-01\n",
      " 3.19680320e-02 5.43456543e-01]\n",
      "\u001b[1m \u001b[95m Finished \u001b[0m: Truncated Parallel 1000 iterations, running time (min): 03:57.64\n"
     ]
    },
    {
     "data": {
      "text/plain": [
       "AnnData object with n_obs × n_vars = 12 × 19107\n",
       "    uns: 'ROMA', 'ROMA_stats', 'ROMA_active_modules'"
      ]
     },
     "execution_count": 18,
     "metadata": {},
     "output_type": "execute_result"
    }
   ],
   "source": [
    "iters = 1000\n",
    "start = time.time()\n",
    "#results = roma.compute_parallel(pathways_to_check, parallel=True, incremental=True, iters=iters)\n",
    "roma.compute(pathways_to_check, parallel=True, incremental=False, iters=iters)\n",
    "end = time.time()\n",
    "minutes, seconds = divmod(end - start, 60)\n",
    "print(f\"Truncated Parallel {iters} iterations, running time (min): \" + \"{:0>2}:{:05.2f}\".format(int(minutes),seconds))\n",
    "\n",
    "adata"
   ]
  },
  {
   "cell_type": "code",
   "execution_count": 19,
   "metadata": {},
   "outputs": [
    {
     "data": {
      "text/plain": [
       "\u001b[1m\u001b[92mscROMA\u001b[0m: module activities are computed"
      ]
     },
     "execution_count": 19,
     "metadata": {},
     "output_type": "execute_result"
    }
   ],
   "source": [
    "roma"
   ]
  },
  {
   "cell_type": "code",
   "execution_count": 20,
   "metadata": {},
   "outputs": [
    {
     "data": {
      "text/plain": [
       "AnnData object with n_obs × n_vars = 12 × 19107\n",
       "    uns: 'ROMA', 'ROMA_stats', 'ROMA_active_modules'"
      ]
     },
     "execution_count": 20,
     "metadata": {},
     "output_type": "execute_result"
    }
   ],
   "source": [
    "roma.adata"
   ]
  },
  {
   "cell_type": "code",
   "execution_count": 22,
   "metadata": {},
   "outputs": [
    {
     "data": {
      "text/html": [
       "<div>\n",
       "<style scoped>\n",
       "    .dataframe tbody tr th:only-of-type {\n",
       "        vertical-align: middle;\n",
       "    }\n",
       "\n",
       "    .dataframe tbody tr th {\n",
       "        vertical-align: top;\n",
       "    }\n",
       "\n",
       "    .dataframe thead th {\n",
       "        text-align: right;\n",
       "    }\n",
       "</style>\n",
       "<table border=\"1\" class=\"dataframe\">\n",
       "  <thead>\n",
       "    <tr style=\"text-align: right;\">\n",
       "      <th></th>\n",
       "      <th>L1</th>\n",
       "      <th>p_value</th>\n",
       "      <th>Median_Exp</th>\n",
       "      <th>q_value</th>\n",
       "    </tr>\n",
       "  </thead>\n",
       "  <tbody>\n",
       "    <tr>\n",
       "      <th>HALLMARK_NOTCH_SIGNALING</th>\n",
       "      <td>0.287955</td>\n",
       "      <td>0.416667</td>\n",
       "      <td>3.807932e-15</td>\n",
       "      <td>0.696739</td>\n",
       "    </tr>\n",
       "    <tr>\n",
       "      <th>HALLMARK_HEDGEHOG_SIGNALING</th>\n",
       "      <td>0.312706</td>\n",
       "      <td>0.694444</td>\n",
       "      <td>-1.649782e-15</td>\n",
       "      <td>0.887208</td>\n",
       "    </tr>\n",
       "    <tr>\n",
       "      <th>HALLMARK_ANGIOGENESIS</th>\n",
       "      <td>0.462983</td>\n",
       "      <td>0.416667</td>\n",
       "      <td>-1.000496e-01</td>\n",
       "      <td>1.000000</td>\n",
       "    </tr>\n",
       "    <tr>\n",
       "      <th>HALLMARK_PANCREAS_BETA_CELLS</th>\n",
       "      <td>0.382546</td>\n",
       "      <td>0.416667</td>\n",
       "      <td>1.823065e-03</td>\n",
       "      <td>0.549451</td>\n",
       "    </tr>\n",
       "    <tr>\n",
       "      <th>HALLMARK_WNT_BETA_CATENIN_SIGNALING</th>\n",
       "      <td>0.311940</td>\n",
       "      <td>0.416667</td>\n",
       "      <td>1.872841e-01</td>\n",
       "      <td>0.267914</td>\n",
       "    </tr>\n",
       "    <tr>\n",
       "      <th>HALLMARK_APICAL_SURFACE</th>\n",
       "      <td>0.220006</td>\n",
       "      <td>0.694444</td>\n",
       "      <td>4.587868e-02</td>\n",
       "      <td>0.479520</td>\n",
       "    </tr>\n",
       "    <tr>\n",
       "      <th>HALLMARK_REACTIVE_OXYGEN_SPECIES_PATHWAY</th>\n",
       "      <td>0.253485</td>\n",
       "      <td>0.416667</td>\n",
       "      <td>6.218047e-02</td>\n",
       "      <td>0.432900</td>\n",
       "    </tr>\n",
       "    <tr>\n",
       "      <th>HALLMARK_TGF_BETA_SIGNALING</th>\n",
       "      <td>0.229761</td>\n",
       "      <td>0.694444</td>\n",
       "      <td>-3.645421e-03</td>\n",
       "      <td>1.000000</td>\n",
       "    </tr>\n",
       "    <tr>\n",
       "      <th>HALLMARK_MYC_TARGETS_V2</th>\n",
       "      <td>0.312704</td>\n",
       "      <td>0.416667</td>\n",
       "      <td>1.163953e-01</td>\n",
       "      <td>0.361177</td>\n",
       "    </tr>\n",
       "    <tr>\n",
       "      <th>HALLMARK_CHOLESTEROL_HOMEOSTASIS</th>\n",
       "      <td>0.252830</td>\n",
       "      <td>0.416667</td>\n",
       "      <td>-5.953104e-02</td>\n",
       "      <td>1.000000</td>\n",
       "    </tr>\n",
       "    <tr>\n",
       "      <th>HALLMARK_IL6_JAK_STAT3_SIGNALING</th>\n",
       "      <td>0.185333</td>\n",
       "      <td>0.416667</td>\n",
       "      <td>1.794370e-01</td>\n",
       "      <td>0.194250</td>\n",
       "    </tr>\n",
       "    <tr>\n",
       "      <th>HALLMARK_PROTEIN_SECRETION</th>\n",
       "      <td>0.199166</td>\n",
       "      <td>0.694444</td>\n",
       "      <td>7.063433e-15</td>\n",
       "      <td>0.549451</td>\n",
       "    </tr>\n",
       "    <tr>\n",
       "      <th>HALLMARK_INTERFERON_ALPHA_RESPONSE</th>\n",
       "      <td>0.218660</td>\n",
       "      <td>0.694444</td>\n",
       "      <td>2.378864e-01</td>\n",
       "      <td>0.112388</td>\n",
       "    </tr>\n",
       "    <tr>\n",
       "      <th>HALLMARK_ANDROGEN_RESPONSE</th>\n",
       "      <td>0.220682</td>\n",
       "      <td>0.416667</td>\n",
       "      <td>-2.738882e-02</td>\n",
       "      <td>1.000000</td>\n",
       "    </tr>\n",
       "    <tr>\n",
       "      <th>HALLMARK_PEROXISOME</th>\n",
       "      <td>0.205347</td>\n",
       "      <td>0.416667</td>\n",
       "      <td>1.328071e-01</td>\n",
       "      <td>0.194805</td>\n",
       "    </tr>\n",
       "    <tr>\n",
       "      <th>HALLMARK_PI3K_AKT_MTOR_SIGNALING</th>\n",
       "      <td>0.211212</td>\n",
       "      <td>0.416667</td>\n",
       "      <td>4.714605e-02</td>\n",
       "      <td>0.427833</td>\n",
       "    </tr>\n",
       "    <tr>\n",
       "      <th>HALLMARK_BILE_ACID_METABOLISM</th>\n",
       "      <td>0.183684</td>\n",
       "      <td>0.694444</td>\n",
       "      <td>2.075164e-01</td>\n",
       "      <td>0.129870</td>\n",
       "    </tr>\n",
       "    <tr>\n",
       "      <th>HALLMARK_UNFOLDED_PROTEIN_RESPONSE</th>\n",
       "      <td>0.253289</td>\n",
       "      <td>0.416667</td>\n",
       "      <td>-2.957464e-15</td>\n",
       "      <td>0.955862</td>\n",
       "    </tr>\n",
       "    <tr>\n",
       "      <th>HALLMARK_SPERMATOGENESIS</th>\n",
       "      <td>0.162974</td>\n",
       "      <td>1.000000</td>\n",
       "      <td>1.661968e-02</td>\n",
       "      <td>0.479520</td>\n",
       "    </tr>\n",
       "    <tr>\n",
       "      <th>HALLMARK_COAGULATION</th>\n",
       "      <td>0.342999</td>\n",
       "      <td>0.416667</td>\n",
       "      <td>1.477908e-01</td>\n",
       "      <td>0.192664</td>\n",
       "    </tr>\n",
       "    <tr>\n",
       "      <th>HALLMARK_UV_RESPONSE_DN</th>\n",
       "      <td>0.199002</td>\n",
       "      <td>0.416667</td>\n",
       "      <td>-5.772806e-15</td>\n",
       "      <td>1.000000</td>\n",
       "    </tr>\n",
       "    <tr>\n",
       "      <th>HALLMARK_DNA_REPAIR</th>\n",
       "      <td>0.174484</td>\n",
       "      <td>0.694444</td>\n",
       "      <td>-4.127750e-02</td>\n",
       "      <td>1.000000</td>\n",
       "    </tr>\n",
       "    <tr>\n",
       "      <th>HALLMARK_FATTY_ACID_METABOLISM</th>\n",
       "      <td>0.198727</td>\n",
       "      <td>0.694444</td>\n",
       "      <td>1.220434e-15</td>\n",
       "      <td>0.771728</td>\n",
       "    </tr>\n",
       "    <tr>\n",
       "      <th>HALLMARK_UV_RESPONSE_UP</th>\n",
       "      <td>0.178171</td>\n",
       "      <td>1.000000</td>\n",
       "      <td>4.101051e-02</td>\n",
       "      <td>0.461538</td>\n",
       "    </tr>\n",
       "    <tr>\n",
       "      <th>HALLMARK_APOPTOSIS</th>\n",
       "      <td>0.269336</td>\n",
       "      <td>0.416667</td>\n",
       "      <td>9.493349e-16</td>\n",
       "      <td>0.784581</td>\n",
       "    </tr>\n",
       "    <tr>\n",
       "      <th>HALLMARK_MITOTIC_SPINDLE</th>\n",
       "      <td>0.171211</td>\n",
       "      <td>0.416667</td>\n",
       "      <td>-1.558581e-15</td>\n",
       "      <td>0.944404</td>\n",
       "    </tr>\n",
       "    <tr>\n",
       "      <th>HALLMARK_IL2_STAT5_SIGNALING</th>\n",
       "      <td>0.184901</td>\n",
       "      <td>0.416667</td>\n",
       "      <td>4.288246e-02</td>\n",
       "      <td>0.427833</td>\n",
       "    </tr>\n",
       "    <tr>\n",
       "      <th>HALLMARK_TNFA_SIGNALING_VIA_NFKB</th>\n",
       "      <td>0.185610</td>\n",
       "      <td>0.416667</td>\n",
       "      <td>1.955941e-01</td>\n",
       "      <td>0.112388</td>\n",
       "    </tr>\n",
       "    <tr>\n",
       "      <th>HALLMARK_HYPOXIA</th>\n",
       "      <td>0.173363</td>\n",
       "      <td>0.416667</td>\n",
       "      <td>9.223139e-15</td>\n",
       "      <td>0.544910</td>\n",
       "    </tr>\n",
       "    <tr>\n",
       "      <th>HALLMARK_G2M_CHECKPOINT</th>\n",
       "      <td>0.160284</td>\n",
       "      <td>0.416667</td>\n",
       "      <td>1.803795e-01</td>\n",
       "      <td>0.112388</td>\n",
       "    </tr>\n",
       "    <tr>\n",
       "      <th>HALLMARK_ADIPOGENESIS</th>\n",
       "      <td>0.184719</td>\n",
       "      <td>0.416667</td>\n",
       "      <td>5.948279e-02</td>\n",
       "      <td>0.427833</td>\n",
       "    </tr>\n",
       "    <tr>\n",
       "      <th>HALLMARK_ESTROGEN_RESPONSE_EARLY</th>\n",
       "      <td>0.205911</td>\n",
       "      <td>0.416667</td>\n",
       "      <td>7.783489e-02</td>\n",
       "      <td>0.399600</td>\n",
       "    </tr>\n",
       "    <tr>\n",
       "      <th>HALLMARK_ESTROGEN_RESPONSE_LATE</th>\n",
       "      <td>0.181202</td>\n",
       "      <td>0.416667</td>\n",
       "      <td>4.555902e-15</td>\n",
       "      <td>0.616051</td>\n",
       "    </tr>\n",
       "    <tr>\n",
       "      <th>HALLMARK_MYOGENESIS</th>\n",
       "      <td>0.248978</td>\n",
       "      <td>0.416667</td>\n",
       "      <td>2.422141e-15</td>\n",
       "      <td>0.696739</td>\n",
       "    </tr>\n",
       "    <tr>\n",
       "      <th>HALLMARK_INTERFERON_GAMMA_RESPONSE</th>\n",
       "      <td>0.172325</td>\n",
       "      <td>0.416667</td>\n",
       "      <td>3.360045e-01</td>\n",
       "      <td>0.049950</td>\n",
       "    </tr>\n",
       "    <tr>\n",
       "      <th>HALLMARK_APICAL_JUNCTION</th>\n",
       "      <td>0.171013</td>\n",
       "      <td>0.416667</td>\n",
       "      <td>5.759973e-02</td>\n",
       "      <td>0.427833</td>\n",
       "    </tr>\n",
       "    <tr>\n",
       "      <th>HALLMARK_COMPLEMENT</th>\n",
       "      <td>0.212732</td>\n",
       "      <td>0.416667</td>\n",
       "      <td>5.117792e-02</td>\n",
       "      <td>0.427833</td>\n",
       "    </tr>\n",
       "    <tr>\n",
       "      <th>HALLMARK_MTORC1_SIGNALING</th>\n",
       "      <td>0.182855</td>\n",
       "      <td>0.416667</td>\n",
       "      <td>4.382370e-02</td>\n",
       "      <td>0.427833</td>\n",
       "    </tr>\n",
       "    <tr>\n",
       "      <th>HALLMARK_E2F_TARGETS</th>\n",
       "      <td>0.157915</td>\n",
       "      <td>0.416667</td>\n",
       "      <td>1.114236e-03</td>\n",
       "      <td>0.544910</td>\n",
       "    </tr>\n",
       "    <tr>\n",
       "      <th>HALLMARK_MYC_TARGETS_V1</th>\n",
       "      <td>0.211766</td>\n",
       "      <td>0.416667</td>\n",
       "      <td>1.389246e-01</td>\n",
       "      <td>0.192664</td>\n",
       "    </tr>\n",
       "    <tr>\n",
       "      <th>HALLMARK_EPITHELIAL_MESENCHYMAL_TRANSITION</th>\n",
       "      <td>0.193589</td>\n",
       "      <td>0.416667</td>\n",
       "      <td>9.225865e-02</td>\n",
       "      <td>0.361177</td>\n",
       "    </tr>\n",
       "    <tr>\n",
       "      <th>HALLMARK_INFLAMMATORY_RESPONSE</th>\n",
       "      <td>0.192147</td>\n",
       "      <td>0.416667</td>\n",
       "      <td>6.926051e-02</td>\n",
       "      <td>0.427833</td>\n",
       "    </tr>\n",
       "    <tr>\n",
       "      <th>HALLMARK_XENOBIOTIC_METABOLISM</th>\n",
       "      <td>0.170674</td>\n",
       "      <td>0.416667</td>\n",
       "      <td>1.773987e-02</td>\n",
       "      <td>0.479520</td>\n",
       "    </tr>\n",
       "    <tr>\n",
       "      <th>HALLMARK_OXIDATIVE_PHOSPHORYLATION</th>\n",
       "      <td>0.189289</td>\n",
       "      <td>0.416667</td>\n",
       "      <td>2.659134e-02</td>\n",
       "      <td>0.468762</td>\n",
       "    </tr>\n",
       "    <tr>\n",
       "      <th>HALLMARK_GLYCOLYSIS</th>\n",
       "      <td>0.186482</td>\n",
       "      <td>0.416667</td>\n",
       "      <td>6.779913e-02</td>\n",
       "      <td>0.427833</td>\n",
       "    </tr>\n",
       "    <tr>\n",
       "      <th>HALLMARK_P53_PATHWAY</th>\n",
       "      <td>0.172772</td>\n",
       "      <td>0.416667</td>\n",
       "      <td>1.691031e-02</td>\n",
       "      <td>0.479520</td>\n",
       "    </tr>\n",
       "    <tr>\n",
       "      <th>HALLMARK_HEME_METABOLISM</th>\n",
       "      <td>0.175744</td>\n",
       "      <td>0.416667</td>\n",
       "      <td>2.469623e-03</td>\n",
       "      <td>0.544910</td>\n",
       "    </tr>\n",
       "    <tr>\n",
       "      <th>HALLMARK_ALLOGRAFT_REJECTION</th>\n",
       "      <td>0.195196</td>\n",
       "      <td>0.416667</td>\n",
       "      <td>4.233460e-02</td>\n",
       "      <td>0.427833</td>\n",
       "    </tr>\n",
       "    <tr>\n",
       "      <th>HALLMARK_KRAS_SIGNALING_UP</th>\n",
       "      <td>0.211585</td>\n",
       "      <td>0.416667</td>\n",
       "      <td>1.305797e-01</td>\n",
       "      <td>0.194250</td>\n",
       "    </tr>\n",
       "    <tr>\n",
       "      <th>HALLMARK_KRAS_SIGNALING_DN</th>\n",
       "      <td>0.145095</td>\n",
       "      <td>0.416667</td>\n",
       "      <td>2.342550e-15</td>\n",
       "      <td>0.696739</td>\n",
       "    </tr>\n",
       "  </tbody>\n",
       "</table>\n",
       "</div>"
      ],
      "text/plain": [
       "                                                  L1   p_value    Median_Exp  \\\n",
       "HALLMARK_NOTCH_SIGNALING                    0.287955  0.416667  3.807932e-15   \n",
       "HALLMARK_HEDGEHOG_SIGNALING                 0.312706  0.694444 -1.649782e-15   \n",
       "HALLMARK_ANGIOGENESIS                       0.462983  0.416667 -1.000496e-01   \n",
       "HALLMARK_PANCREAS_BETA_CELLS                0.382546  0.416667  1.823065e-03   \n",
       "HALLMARK_WNT_BETA_CATENIN_SIGNALING         0.311940  0.416667  1.872841e-01   \n",
       "HALLMARK_APICAL_SURFACE                     0.220006  0.694444  4.587868e-02   \n",
       "HALLMARK_REACTIVE_OXYGEN_SPECIES_PATHWAY    0.253485  0.416667  6.218047e-02   \n",
       "HALLMARK_TGF_BETA_SIGNALING                 0.229761  0.694444 -3.645421e-03   \n",
       "HALLMARK_MYC_TARGETS_V2                     0.312704  0.416667  1.163953e-01   \n",
       "HALLMARK_CHOLESTEROL_HOMEOSTASIS            0.252830  0.416667 -5.953104e-02   \n",
       "HALLMARK_IL6_JAK_STAT3_SIGNALING            0.185333  0.416667  1.794370e-01   \n",
       "HALLMARK_PROTEIN_SECRETION                  0.199166  0.694444  7.063433e-15   \n",
       "HALLMARK_INTERFERON_ALPHA_RESPONSE          0.218660  0.694444  2.378864e-01   \n",
       "HALLMARK_ANDROGEN_RESPONSE                  0.220682  0.416667 -2.738882e-02   \n",
       "HALLMARK_PEROXISOME                         0.205347  0.416667  1.328071e-01   \n",
       "HALLMARK_PI3K_AKT_MTOR_SIGNALING            0.211212  0.416667  4.714605e-02   \n",
       "HALLMARK_BILE_ACID_METABOLISM               0.183684  0.694444  2.075164e-01   \n",
       "HALLMARK_UNFOLDED_PROTEIN_RESPONSE          0.253289  0.416667 -2.957464e-15   \n",
       "HALLMARK_SPERMATOGENESIS                    0.162974  1.000000  1.661968e-02   \n",
       "HALLMARK_COAGULATION                        0.342999  0.416667  1.477908e-01   \n",
       "HALLMARK_UV_RESPONSE_DN                     0.199002  0.416667 -5.772806e-15   \n",
       "HALLMARK_DNA_REPAIR                         0.174484  0.694444 -4.127750e-02   \n",
       "HALLMARK_FATTY_ACID_METABOLISM              0.198727  0.694444  1.220434e-15   \n",
       "HALLMARK_UV_RESPONSE_UP                     0.178171  1.000000  4.101051e-02   \n",
       "HALLMARK_APOPTOSIS                          0.269336  0.416667  9.493349e-16   \n",
       "HALLMARK_MITOTIC_SPINDLE                    0.171211  0.416667 -1.558581e-15   \n",
       "HALLMARK_IL2_STAT5_SIGNALING                0.184901  0.416667  4.288246e-02   \n",
       "HALLMARK_TNFA_SIGNALING_VIA_NFKB            0.185610  0.416667  1.955941e-01   \n",
       "HALLMARK_HYPOXIA                            0.173363  0.416667  9.223139e-15   \n",
       "HALLMARK_G2M_CHECKPOINT                     0.160284  0.416667  1.803795e-01   \n",
       "HALLMARK_ADIPOGENESIS                       0.184719  0.416667  5.948279e-02   \n",
       "HALLMARK_ESTROGEN_RESPONSE_EARLY            0.205911  0.416667  7.783489e-02   \n",
       "HALLMARK_ESTROGEN_RESPONSE_LATE             0.181202  0.416667  4.555902e-15   \n",
       "HALLMARK_MYOGENESIS                         0.248978  0.416667  2.422141e-15   \n",
       "HALLMARK_INTERFERON_GAMMA_RESPONSE          0.172325  0.416667  3.360045e-01   \n",
       "HALLMARK_APICAL_JUNCTION                    0.171013  0.416667  5.759973e-02   \n",
       "HALLMARK_COMPLEMENT                         0.212732  0.416667  5.117792e-02   \n",
       "HALLMARK_MTORC1_SIGNALING                   0.182855  0.416667  4.382370e-02   \n",
       "HALLMARK_E2F_TARGETS                        0.157915  0.416667  1.114236e-03   \n",
       "HALLMARK_MYC_TARGETS_V1                     0.211766  0.416667  1.389246e-01   \n",
       "HALLMARK_EPITHELIAL_MESENCHYMAL_TRANSITION  0.193589  0.416667  9.225865e-02   \n",
       "HALLMARK_INFLAMMATORY_RESPONSE              0.192147  0.416667  6.926051e-02   \n",
       "HALLMARK_XENOBIOTIC_METABOLISM              0.170674  0.416667  1.773987e-02   \n",
       "HALLMARK_OXIDATIVE_PHOSPHORYLATION          0.189289  0.416667  2.659134e-02   \n",
       "HALLMARK_GLYCOLYSIS                         0.186482  0.416667  6.779913e-02   \n",
       "HALLMARK_P53_PATHWAY                        0.172772  0.416667  1.691031e-02   \n",
       "HALLMARK_HEME_METABOLISM                    0.175744  0.416667  2.469623e-03   \n",
       "HALLMARK_ALLOGRAFT_REJECTION                0.195196  0.416667  4.233460e-02   \n",
       "HALLMARK_KRAS_SIGNALING_UP                  0.211585  0.416667  1.305797e-01   \n",
       "HALLMARK_KRAS_SIGNALING_DN                  0.145095  0.416667  2.342550e-15   \n",
       "\n",
       "                                             q_value  \n",
       "HALLMARK_NOTCH_SIGNALING                    0.696739  \n",
       "HALLMARK_HEDGEHOG_SIGNALING                 0.887208  \n",
       "HALLMARK_ANGIOGENESIS                       1.000000  \n",
       "HALLMARK_PANCREAS_BETA_CELLS                0.549451  \n",
       "HALLMARK_WNT_BETA_CATENIN_SIGNALING         0.267914  \n",
       "HALLMARK_APICAL_SURFACE                     0.479520  \n",
       "HALLMARK_REACTIVE_OXYGEN_SPECIES_PATHWAY    0.432900  \n",
       "HALLMARK_TGF_BETA_SIGNALING                 1.000000  \n",
       "HALLMARK_MYC_TARGETS_V2                     0.361177  \n",
       "HALLMARK_CHOLESTEROL_HOMEOSTASIS            1.000000  \n",
       "HALLMARK_IL6_JAK_STAT3_SIGNALING            0.194250  \n",
       "HALLMARK_PROTEIN_SECRETION                  0.549451  \n",
       "HALLMARK_INTERFERON_ALPHA_RESPONSE          0.112388  \n",
       "HALLMARK_ANDROGEN_RESPONSE                  1.000000  \n",
       "HALLMARK_PEROXISOME                         0.194805  \n",
       "HALLMARK_PI3K_AKT_MTOR_SIGNALING            0.427833  \n",
       "HALLMARK_BILE_ACID_METABOLISM               0.129870  \n",
       "HALLMARK_UNFOLDED_PROTEIN_RESPONSE          0.955862  \n",
       "HALLMARK_SPERMATOGENESIS                    0.479520  \n",
       "HALLMARK_COAGULATION                        0.192664  \n",
       "HALLMARK_UV_RESPONSE_DN                     1.000000  \n",
       "HALLMARK_DNA_REPAIR                         1.000000  \n",
       "HALLMARK_FATTY_ACID_METABOLISM              0.771728  \n",
       "HALLMARK_UV_RESPONSE_UP                     0.461538  \n",
       "HALLMARK_APOPTOSIS                          0.784581  \n",
       "HALLMARK_MITOTIC_SPINDLE                    0.944404  \n",
       "HALLMARK_IL2_STAT5_SIGNALING                0.427833  \n",
       "HALLMARK_TNFA_SIGNALING_VIA_NFKB            0.112388  \n",
       "HALLMARK_HYPOXIA                            0.544910  \n",
       "HALLMARK_G2M_CHECKPOINT                     0.112388  \n",
       "HALLMARK_ADIPOGENESIS                       0.427833  \n",
       "HALLMARK_ESTROGEN_RESPONSE_EARLY            0.399600  \n",
       "HALLMARK_ESTROGEN_RESPONSE_LATE             0.616051  \n",
       "HALLMARK_MYOGENESIS                         0.696739  \n",
       "HALLMARK_INTERFERON_GAMMA_RESPONSE          0.049950  \n",
       "HALLMARK_APICAL_JUNCTION                    0.427833  \n",
       "HALLMARK_COMPLEMENT                         0.427833  \n",
       "HALLMARK_MTORC1_SIGNALING                   0.427833  \n",
       "HALLMARK_E2F_TARGETS                        0.544910  \n",
       "HALLMARK_MYC_TARGETS_V1                     0.192664  \n",
       "HALLMARK_EPITHELIAL_MESENCHYMAL_TRANSITION  0.361177  \n",
       "HALLMARK_INFLAMMATORY_RESPONSE              0.427833  \n",
       "HALLMARK_XENOBIOTIC_METABOLISM              0.479520  \n",
       "HALLMARK_OXIDATIVE_PHOSPHORYLATION          0.468762  \n",
       "HALLMARK_GLYCOLYSIS                         0.427833  \n",
       "HALLMARK_P53_PATHWAY                        0.479520  \n",
       "HALLMARK_HEME_METABOLISM                    0.544910  \n",
       "HALLMARK_ALLOGRAFT_REJECTION                0.427833  \n",
       "HALLMARK_KRAS_SIGNALING_UP                  0.194250  \n",
       "HALLMARK_KRAS_SIGNALING_DN                  0.696739  "
      ]
     },
     "execution_count": 22,
     "metadata": {},
     "output_type": "execute_result"
    }
   ],
   "source": [
    "roma.adata.uns['ROMA_stats']"
   ]
  },
  {
   "cell_type": "code",
   "execution_count": 23,
   "metadata": {},
   "outputs": [],
   "source": [
    "# took a higher treshold\n",
    "roma.select_active_modules(p_threshold=0.05, q_threshold=0.05)"
   ]
  },
  {
   "cell_type": "code",
   "execution_count": 24,
   "metadata": {},
   "outputs": [
    {
     "data": {
      "text/html": [
       "<div>\n",
       "<style scoped>\n",
       "    .dataframe tbody tr th:only-of-type {\n",
       "        vertical-align: middle;\n",
       "    }\n",
       "\n",
       "    .dataframe tbody tr th {\n",
       "        vertical-align: top;\n",
       "    }\n",
       "\n",
       "    .dataframe thead th {\n",
       "        text-align: right;\n",
       "    }\n",
       "</style>\n",
       "<table border=\"1\" class=\"dataframe\">\n",
       "  <thead>\n",
       "    <tr style=\"text-align: right;\">\n",
       "      <th></th>\n",
       "      <th>L1</th>\n",
       "      <th>p_value</th>\n",
       "      <th>Median_Exp</th>\n",
       "      <th>q_value</th>\n",
       "    </tr>\n",
       "  </thead>\n",
       "  <tbody>\n",
       "    <tr>\n",
       "      <th>HALLMARK_INTERFERON_GAMMA_RESPONSE</th>\n",
       "      <td>0.172325</td>\n",
       "      <td>0.416667</td>\n",
       "      <td>0.336004</td>\n",
       "      <td>0.04995</td>\n",
       "    </tr>\n",
       "  </tbody>\n",
       "</table>\n",
       "</div>"
      ],
      "text/plain": [
       "                                          L1   p_value  Median_Exp  q_value\n",
       "HALLMARK_INTERFERON_GAMMA_RESPONSE  0.172325  0.416667    0.336004  0.04995"
      ]
     },
     "execution_count": 24,
     "metadata": {},
     "output_type": "execute_result"
    }
   ],
   "source": [
    "roma.adata.uns['ROMA_active_modules']"
   ]
  },
  {
   "cell_type": "code",
   "execution_count": 25,
   "metadata": {},
   "outputs": [
    {
     "ename": "KeyError",
     "evalue": "'Adaptive Immune System'",
     "output_type": "error",
     "traceback": [
      "\u001b[0;31m---------------------------------------------------------------------------\u001b[0m",
      "\u001b[0;31mKeyError\u001b[0m                                  Traceback (most recent call last)",
      "Cell \u001b[0;32mIn[25], line 1\u001b[0m\n\u001b[0;32m----> 1\u001b[0m \u001b[43mroma\u001b[49m\u001b[38;5;241;43m.\u001b[39;49m\u001b[43madata\u001b[49m\u001b[38;5;241;43m.\u001b[39;49m\u001b[43muns\u001b[49m\u001b[43m[\u001b[49m\u001b[38;5;124;43m'\u001b[39;49m\u001b[38;5;124;43mROMA\u001b[39;49m\u001b[38;5;124;43m'\u001b[39;49m\u001b[43m]\u001b[49m\u001b[43m[\u001b[49m\u001b[38;5;124;43m'\u001b[39;49m\u001b[38;5;124;43mAdaptive Immune System\u001b[39;49m\u001b[38;5;124;43m'\u001b[39;49m\u001b[43m]\u001b[49m\u001b[38;5;241m.\u001b[39msvd\u001b[38;5;241m.\u001b[39mexplained_variance_ratio_[\u001b[38;5;241m0\u001b[39m]\n",
      "\u001b[0;31mKeyError\u001b[0m: 'Adaptive Immune System'"
     ]
    }
   ],
   "source": [
    "roma.adata.uns['ROMA']['Adaptive Immune System'].svd.explained_variance_ratio_[0]"
   ]
  },
  {
   "cell_type": "code",
   "execution_count": 26,
   "metadata": {},
   "outputs": [
    {
     "data": {
      "text/plain": [
       "0.1926644783787641"
      ]
     },
     "execution_count": 26,
     "metadata": {},
     "output_type": "execute_result"
    }
   ],
   "source": [
    "roma.adata.uns['ROMA']['HALLMARK_COAGULATION'].q_value"
   ]
  },
  {
   "cell_type": "code",
   "execution_count": 27,
   "metadata": {},
   "outputs": [
    {
     "data": {
      "text/plain": [
       "[]"
      ]
     },
     "execution_count": 27,
     "metadata": {},
     "output_type": "execute_result"
    }
   ],
   "source": [
    "roma.adata.uns['ROMA']['HALLMARK_COAGULATION'].outliers"
   ]
  },
  {
   "cell_type": "code",
   "execution_count": 28,
   "metadata": {},
   "outputs": [
    {
     "data": {
      "text/plain": [
       "(1000,)"
      ]
     },
     "execution_count": 28,
     "metadata": {},
     "output_type": "execute_result"
    }
   ],
   "source": [
    "roma.adata.uns['ROMA']['HALLMARK_COAGULATION'].null_median_exp.shape"
   ]
  },
  {
   "cell_type": "code",
   "execution_count": 29,
   "metadata": {},
   "outputs": [
    {
     "data": {
      "image/png": "[encoded data removed]",
      "text/plain": [
       "<Figure size 1000x1000 with 1 Axes>"
      ]
     },
     "metadata": {},
     "output_type": "display_data"
    }
   ],
   "source": [
    "import matplotlib.pyplot as plt \n",
    "\n",
    "fig, axs = plt.subplots(1, 1, figsize=(10, 10), tight_layout=True)\n",
    "x = roma.adata.uns['ROMA']['HALLMARK_COAGULATION'].null_median_exp\n",
    "axs.hist(x, density=True, bins=100)\n",
    "axs.axvline(roma.adata.uns['ROMA']['HALLMARK_COAGULATION'].test_median_exp, color='r', linewidth=1)\n",
    "\n",
    "plt.show()"
   ]
  },
  {
   "cell_type": "code",
   "execution_count": 30,
   "metadata": {},
   "outputs": [
    {
     "data": {
      "text/html": [
       "<div>\n",
       "<style scoped>\n",
       "    .dataframe tbody tr th:only-of-type {\n",
       "        vertical-align: middle;\n",
       "    }\n",
       "\n",
       "    .dataframe tbody tr th {\n",
       "        vertical-align: top;\n",
       "    }\n",
       "\n",
       "    .dataframe thead th {\n",
       "        text-align: right;\n",
       "    }\n",
       "</style>\n",
       "<table border=\"1\" class=\"dataframe\">\n",
       "  <thead>\n",
       "    <tr style=\"text-align: right;\">\n",
       "      <th></th>\n",
       "      <th>sample_id</th>\n",
       "      <th>Type</th>\n",
       "      <th>CF_sample_id</th>\n",
       "    </tr>\n",
       "  </thead>\n",
       "  <tbody>\n",
       "    <tr>\n",
       "      <th>1</th>\n",
       "      <td>GSM5356205</td>\n",
       "      <td>non_CF</td>\n",
       "      <td>non_CF 1</td>\n",
       "    </tr>\n",
       "    <tr>\n",
       "      <th>2</th>\n",
       "      <td>GSM5356206</td>\n",
       "      <td>non_CF</td>\n",
       "      <td>non_CF 2</td>\n",
       "    </tr>\n",
       "    <tr>\n",
       "      <th>3</th>\n",
       "      <td>GSM5356207</td>\n",
       "      <td>non_CF</td>\n",
       "      <td>non_CF 3</td>\n",
       "    </tr>\n",
       "    <tr>\n",
       "      <th>4</th>\n",
       "      <td>GSM5356208</td>\n",
       "      <td>non_CF</td>\n",
       "      <td>non_CF 4</td>\n",
       "    </tr>\n",
       "    <tr>\n",
       "      <th>5</th>\n",
       "      <td>GSM5356209</td>\n",
       "      <td>non_CF</td>\n",
       "      <td>non_CF 5</td>\n",
       "    </tr>\n",
       "    <tr>\n",
       "      <th>6</th>\n",
       "      <td>GSM5356210</td>\n",
       "      <td>non_CF</td>\n",
       "      <td>non_CF 6</td>\n",
       "    </tr>\n",
       "    <tr>\n",
       "      <th>7</th>\n",
       "      <td>GSM5356217</td>\n",
       "      <td>CF</td>\n",
       "      <td>CF 1</td>\n",
       "    </tr>\n",
       "    <tr>\n",
       "      <th>8</th>\n",
       "      <td>GSM5356218</td>\n",
       "      <td>CF</td>\n",
       "      <td>CF 2</td>\n",
       "    </tr>\n",
       "    <tr>\n",
       "      <th>9</th>\n",
       "      <td>GSM5356219</td>\n",
       "      <td>CF</td>\n",
       "      <td>CF 3</td>\n",
       "    </tr>\n",
       "    <tr>\n",
       "      <th>10</th>\n",
       "      <td>GSM5356220</td>\n",
       "      <td>CF</td>\n",
       "      <td>CF 4</td>\n",
       "    </tr>\n",
       "    <tr>\n",
       "      <th>11</th>\n",
       "      <td>GSM5356221</td>\n",
       "      <td>CF</td>\n",
       "      <td>CF 5</td>\n",
       "    </tr>\n",
       "    <tr>\n",
       "      <th>12</th>\n",
       "      <td>GSM5356222</td>\n",
       "      <td>CF</td>\n",
       "      <td>CF 6</td>\n",
       "    </tr>\n",
       "  </tbody>\n",
       "</table>\n",
       "</div>"
      ],
      "text/plain": [
       "     sample_id    Type CF_sample_id\n",
       "1   GSM5356205  non_CF     non_CF 1\n",
       "2   GSM5356206  non_CF     non_CF 2\n",
       "3   GSM5356207  non_CF     non_CF 3\n",
       "4   GSM5356208  non_CF     non_CF 4\n",
       "5   GSM5356209  non_CF     non_CF 5\n",
       "6   GSM5356210  non_CF     non_CF 6\n",
       "7   GSM5356217      CF         CF 1\n",
       "8   GSM5356218      CF         CF 2\n",
       "9   GSM5356219      CF         CF 3\n",
       "10  GSM5356220      CF         CF 4\n",
       "11  GSM5356221      CF         CF 5\n",
       "12  GSM5356222      CF         CF 6"
      ]
     },
     "execution_count": 30,
     "metadata": {},
     "output_type": "execute_result"
    }
   ],
   "source": [
    "roma.adata.obs = sample_labels\n",
    "roma.adata.obs"
   ]
  },
  {
   "cell_type": "code",
   "execution_count": null,
   "metadata": {},
   "outputs": [],
   "source": [
    "a"
   ]
  },
  {
   "cell_type": "code",
   "execution_count": null,
   "metadata": {},
   "outputs": [],
   "source": [
    "# no orient pc "
   ]
  },
  {
   "cell_type": "code",
   "execution_count": null,
   "metadata": {},
   "outputs": [],
   "source": []
  },
  {
   "cell_type": "code",
   "execution_count": null,
   "metadata": {},
   "outputs": [
    {
     "data": {
      "text/plain": [
       "['ALKBH2 mediated reversal of alkylation damage',\n",
       " 'APC truncation mutants are not K63 polyubiquitinated',\n",
       " 'ASP-3026-resistant ALK mutants',\n",
       " 'Abnormal conversion of 2-oxoglutarate to 2-hydroxyglutarate',\n",
       " 'Abasic sugar-phosphate removal via the single-nucleotide replacement pathway',\n",
       " 'Acetylation',\n",
       " 'Activation and oligomerization of BAK protein',\n",
       " 'Activation of Na-permeable kainate receptors',\n",
       " 'Activation, translocation and oligomerization of BAX',\n",
       " '5-Phosphoribose 1-diphosphate biosynthesis',\n",
       " 'ABO blood group biosynthesis',\n",
       " 'ARL13B-mediated ciliary trafficking of INPP5E',\n",
       " 'Activated NTRK3 signals through PLCG1',\n",
       " 'Activation of BIM and translocation to mitochondria',\n",
       " 'Activation of BMF and translocation to mitochondria',\n",
       " 'AKT-mediated inactivation of FOXO1A',\n",
       " 'ALKBH3 mediated reversal of alkylation damage',\n",
       " 'ATF6B (ATF6-beta) activates chaperones',\n",
       " 'ATP sensitive Potassium channels',\n",
       " 'Abacavir metabolism',\n",
       " 'Activated NTRK2 signals through PLCG1',\n",
       " 'Activation of AKT2',\n",
       " 'Activation of AMPA receptors',\n",
       " 'Activation, myristolyation of BID and translocation to mitochondria',\n",
       " 'Adenosine P1 receptors',\n",
       " 'Abacavir transmembrane transport',\n",
       " 'Acetylcholine inhibits contraction of outer hair cells',\n",
       " 'Activation of NOXA and translocation to mitochondria',\n",
       " 'Activation of RAS in B cells',\n",
       " 'Acrosome Reaction and Sperm:Oocyte Membrane Binding',\n",
       " 'Activated NTRK2 signals through CDK5',\n",
       " 'Activated NTRK3 signals through PI3K',\n",
       " 'Activation of TRKA receptors',\n",
       " 'Activation of caspases through apoptosome-mediated cleavage',\n",
       " 'Acyl chain remodeling of CL',\n",
       " 'APEX1-Independent Resolution of AP Sites via the Single Nucleotide Replacement Pathway',\n",
       " 'ARMS-mediated activation',\n",
       " 'Activated NTRK2 signals through FYN',\n",
       " 'Activated NTRK2 signals through PI3K',\n",
       " 'Activation of C3 and C5',\n",
       " 'Activation of NIMA Kinases NEK9, NEK6, NEK7',\n",
       " 'Activation of RAC1 downstream of NMDARs',\n",
       " 'Acyl chain remodeling of DAG and TAG',\n",
       " 'AMPK inhibits chREBP transcriptional activation activity',\n",
       " 'Activated NTRK3 signals through RAS',\n",
       " 'Abacavir ADME',\n",
       " 'Activated NTRK2 signals through RAS',\n",
       " 'Activation of PUMA and translocation to mitochondria',\n",
       " 'AKT phosphorylates targets in the nucleus',\n",
       " 'ATF6 (ATF6-alpha) activates chaperone genes',\n",
       " 'Acetylcholine regulates insulin secretion',\n",
       " 'Activation of Ca-permeable Kainate Receptor',\n",
       " 'Activation of PPARGC1A (PGC-1alpha) by phosphorylation',\n",
       " 'Activation of the AP-1 family of transcription factors',\n",
       " 'Adenylate cyclase activating pathway',\n",
       " 'APOBEC3G mediated resistance to HIV-1 infection',\n",
       " 'Activated NTRK2 signals through FRS2 and FRS3',\n",
       " 'Activation of the phototransduction cascade',\n",
       " 'ALK mutants bind TKIs',\n",
       " 'ATF6 (ATF6-alpha) activates chaperones',\n",
       " 'Activation of the TFAP2 (AP-2) family of transcription factors',\n",
       " 'Activation of RAC1',\n",
       " 'AKT phosphorylates targets in the cytosol',\n",
       " 'APC truncation mutants have impaired AXIN binding',\n",
       " 'AXIN missense mutants destabilize the destruction complex',\n",
       " 'Acetylcholine binding and downstream events',\n",
       " 'Adenylate cyclase inhibitory pathway',\n",
       " 'Activation of BAD and translocation to mitochondria',\n",
       " 'Aberrant regulation of mitotic G1/S transition in cancer due to RB1 defects',\n",
       " 'Acetylcholine Neurotransmitter Release Cycle',\n",
       " 'Activated point mutants of FGFR2',\n",
       " 'Acyl chain remodelling of PI',\n",
       " 'ABC transporters in lipid homeostasis',\n",
       " 'Activation of IRF3, IRF7 mediated by TBK1, IKKε (IKBKE)',\n",
       " 'Activation of SMO',\n",
       " 'Acyl chain remodelling of PG',\n",
       " 'Aberrant regulation of mitotic exit in cancer due to RB1 defects',\n",
       " 'ADP signalling through P2Y purinoceptor 12',\n",
       " 'Acyl chain remodelling of PS',\n",
       " 'Abortive elongation of HIV-1 transcript in the absence of Tat',\n",
       " 'APC/C:Cdc20 mediated degradation of Cyclin B',\n",
       " 'ADP signalling through P2Y purinoceptor 1',\n",
       " 'A tetrasaccharide linker sequence is required for GAG synthesis',\n",
       " 'APC-Cdc20 mediated degradation of Nek2A',\n",
       " 'Acyl chain remodelling of PC',\n",
       " 'ATF4 activates genes in response to endoplasmic reticulum  stress',\n",
       " 'Activation of AMPK downstream of NMDARs',\n",
       " 'Activation of G protein gated Potassium channels',\n",
       " 'Acyl chain remodelling of PE',\n",
       " 'Activation of BH3-only proteins',\n",
       " 'Activation of kainate receptors upon glutamate binding',\n",
       " 'Activated NOTCH1 Transmits Signal to the Nucleus',\n",
       " 'Activation of Matrix Metalloproteinases',\n",
       " 'Activation of the pre-replicative complex',\n",
       " 'Activated PKN1 stimulates transcription of AR (androgen receptor) regulated genes KLK2 and KLK3',\n",
       " 'Aberrant regulation of mitotic cell cycle due to RB1 defects',\n",
       " 'Activation of ATR in response to replication stress',\n",
       " 'ADORA2B mediated anti-inflammatory cytokines production',\n",
       " 'Activation of GABAB receptors',\n",
       " 'Activation of gene expression by SREBF (SREBP)',\n",
       " 'Adherens junctions interactions',\n",
       " 'Activation of the mRNA upon binding of the cap-binding complex and eIFs, and subsequent binding to 43S',\n",
       " 'Activation of HOX genes during differentiation',\n",
       " 'Activation of anterior HOX genes in hindbrain development during early embryogenesis',\n",
       " 'Activation of NMDA receptors and postsynaptic events']"
      ]
     },
     "execution_count": 7,
     "metadata": {},
     "output_type": "execute_result"
    }
   ],
   "source": [
    "roma.unprocessed_genesets"
   ]
  },
  {
   "cell_type": "code",
   "execution_count": null,
   "metadata": {},
   "outputs": [
    {
     "data": {
      "text/plain": [
       "set()"
      ]
     },
     "execution_count": 8,
     "metadata": {},
     "output_type": "execute_result"
    }
   ],
   "source": [
    "set(roma.adata.uns['ROMA'].keys()) & set(roma.unprocessed_genesets)\n"
   ]
  },
  {
   "cell_type": "code",
   "execution_count": null,
   "metadata": {},
   "outputs": [
    {
     "ename": "KeyError",
     "evalue": "'ALKBH2 mediated reversal of alkylation damage'",
     "output_type": "error",
     "traceback": [
      "\u001b[0;31m---------------------------------------------------------------------------\u001b[0m",
      "\u001b[0;31mKeyError\u001b[0m                                  Traceback (most recent call last)",
      "Cell \u001b[0;32mIn[9], line 1\u001b[0m\n\u001b[0;32m----> 1\u001b[0m \u001b[43mroma\u001b[49m\u001b[38;5;241;43m.\u001b[39;49m\u001b[43madata\u001b[49m\u001b[38;5;241;43m.\u001b[39;49m\u001b[43muns\u001b[49m\u001b[43m[\u001b[49m\u001b[38;5;124;43m'\u001b[39;49m\u001b[38;5;124;43mROMA\u001b[39;49m\u001b[38;5;124;43m'\u001b[39;49m\u001b[43m]\u001b[49m\u001b[43m[\u001b[49m\u001b[38;5;124;43m'\u001b[39;49m\u001b[38;5;124;43mALKBH2 mediated reversal of alkylation damage\u001b[39;49m\u001b[38;5;124;43m'\u001b[39;49m\u001b[43m]\u001b[49m\n",
      "\u001b[0;31mKeyError\u001b[0m: 'ALKBH2 mediated reversal of alkylation damage'"
     ]
    }
   ],
   "source": [
    "roma.adata.uns['ROMA']['ALKBH2 mediated reversal of alkylation damage']"
   ]
  },
  {
   "cell_type": "code",
   "execution_count": null,
   "metadata": {},
   "outputs": [
    {
     "data": {
      "text/plain": [
       "16"
      ]
     },
     "execution_count": 10,
     "metadata": {},
     "output_type": "execute_result"
    }
   ],
   "source": [
    "len(roma.adata.uns['ROMA'])"
   ]
  },
  {
   "cell_type": "code",
   "execution_count": null,
   "metadata": {},
   "outputs": [
    {
     "data": {
      "text/plain": [
       "385"
      ]
     },
     "execution_count": 11,
     "metadata": {},
     "output_type": "execute_result"
    }
   ],
   "source": [
    "len(roma.adata.uns['ROMA']['Immune System'].subsetlist)"
   ]
  },
  {
   "cell_type": "code",
   "execution_count": null,
   "metadata": {},
   "outputs": [
    {
     "name": "stdout",
     "output_type": "stream",
     "text": [
      "12 0 | null size 12\n",
      "16 0 | null size 12\n",
      "18 0 | null size 12\n",
      "11 0 | null size 12\n",
      "18 0 | null size 12\n",
      "19 0 | null size 12\n",
      "19 0 | null size 12\n",
      "19 0 | null size 12\n",
      "15 0 | null size 12\n",
      "19 0 | null size 12\n",
      "19 0 | null size 12\n",
      "18 0 | null size 12\n",
      "30 0 | null size 12\n",
      "165 0 | null size 165\n",
      "206 0 | null size 165\n",
      "385 0 | null size 385\n"
     ]
    }
   ],
   "source": [
    "for k, v in roma.adata.uns['ROMA'].items():\n",
    "    print(len(v.subsetlist), len(v.outliers), end=' | ')\n",
    "    print('null size', v.nullgenesetsize)"
   ]
  },
  {
   "cell_type": "code",
   "execution_count": null,
   "metadata": {},
   "outputs": [
    {
     "data": {
      "text/plain": [
       "scROMA: module activities are computed"
      ]
     },
     "execution_count": 13,
     "metadata": {},
     "output_type": "execute_result"
    }
   ],
   "source": [
    "roma"
   ]
  },
  {
   "cell_type": "code",
   "execution_count": null,
   "metadata": {},
   "outputs": [
    {
     "data": {
      "text/plain": [
       "AnnData object with n_obs × n_vars = 357 × 2500\n",
       "    obs: 'celltype', 'n_genes'\n",
       "    var: 'gene_ids', 'n_cells', 'highly_variable', 'means', 'dispersions', 'dispersions_norm'\n",
       "    uns: 'log1p', 'hvg', 'ROMA', 'ROMA_stats'"
      ]
     },
     "execution_count": 14,
     "metadata": {},
     "output_type": "execute_result"
    }
   ],
   "source": [
    "roma.adata"
   ]
  },
  {
   "cell_type": "code",
   "execution_count": null,
   "metadata": {},
   "outputs": [
    {
     "data": {
      "text/html": [
       "<div>\n",
       "<style scoped>\n",
       "    .dataframe tbody tr th:only-of-type {\n",
       "        vertical-align: middle;\n",
       "    }\n",
       "\n",
       "    .dataframe tbody tr th {\n",
       "        vertical-align: top;\n",
       "    }\n",
       "\n",
       "    .dataframe thead th {\n",
       "        text-align: right;\n",
       "    }\n",
       "</style>\n",
       "<table border=\"1\" class=\"dataframe\">\n",
       "  <thead>\n",
       "    <tr style=\"text-align: right;\">\n",
       "      <th></th>\n",
       "      <th>pvalue</th>\n",
       "    </tr>\n",
       "  </thead>\n",
       "  <tbody>\n",
       "    <tr>\n",
       "      <th>AUF1 (hnRNP D0) binds and destabilizes mRNA</th>\n",
       "      <td>1.0</td>\n",
       "    </tr>\n",
       "    <tr>\n",
       "      <th>Activation of NF-kappaB in B cells</th>\n",
       "      <td>1.0</td>\n",
       "    </tr>\n",
       "    <tr>\n",
       "      <th>APC/C:Cdc20 mediated degradation of Securin</th>\n",
       "      <td>1.0</td>\n",
       "    </tr>\n",
       "    <tr>\n",
       "      <th>AURKA Activation by TPX2</th>\n",
       "      <td>1.0</td>\n",
       "    </tr>\n",
       "    <tr>\n",
       "      <th>APC/C:Cdh1 mediated degradation of Cdc20 and other APC/C:Cdh1 targeted proteins in late mitosis/early G1</th>\n",
       "      <td>1.0</td>\n",
       "    </tr>\n",
       "    <tr>\n",
       "      <th>APC:Cdc20 mediated degradation of cell cycle proteins prior to satisfation of the cell cycle checkpoint</th>\n",
       "      <td>1.0</td>\n",
       "    </tr>\n",
       "    <tr>\n",
       "      <th>APC/C:Cdc20 mediated degradation of mitotic proteins</th>\n",
       "      <td>1.0</td>\n",
       "    </tr>\n",
       "    <tr>\n",
       "      <th>Activation of APC/C and APC/C:Cdc20 mediated degradation of mitotic proteins</th>\n",
       "      <td>1.0</td>\n",
       "    </tr>\n",
       "    <tr>\n",
       "      <th>ABC transporter disorders</th>\n",
       "      <td>1.0</td>\n",
       "    </tr>\n",
       "    <tr>\n",
       "      <th>APC/C-mediated degradation of cell cycle proteins</th>\n",
       "      <td>1.0</td>\n",
       "    </tr>\n",
       "    <tr>\n",
       "      <th>ABC-family proteins mediated transport</th>\n",
       "      <td>1.0</td>\n",
       "    </tr>\n",
       "    <tr>\n",
       "      <th>Adipogenesis</th>\n",
       "      <td>1.0</td>\n",
       "    </tr>\n",
       "    <tr>\n",
       "      <th>Response to elevated platelet cytosolic Ca2+</th>\n",
       "      <td>1.0</td>\n",
       "    </tr>\n",
       "    <tr>\n",
       "      <th>Adaptive Immune System</th>\n",
       "      <td>1.0</td>\n",
       "    </tr>\n",
       "    <tr>\n",
       "      <th>Innate Immune System</th>\n",
       "      <td>1.0</td>\n",
       "    </tr>\n",
       "    <tr>\n",
       "      <th>Immune System</th>\n",
       "      <td>1.0</td>\n",
       "    </tr>\n",
       "  </tbody>\n",
       "</table>\n",
       "</div>"
      ],
      "text/plain": [
       "                                                    pvalue\n",
       "AUF1 (hnRNP D0) binds and destabilizes mRNA            1.0\n",
       "Activation of NF-kappaB in B cells                     1.0\n",
       "APC/C:Cdc20 mediated degradation of Securin            1.0\n",
       "AURKA Activation by TPX2                               1.0\n",
       "APC/C:Cdh1 mediated degradation of Cdc20 and ot...     1.0\n",
       "APC:Cdc20 mediated degradation of cell cycle pr...     1.0\n",
       "APC/C:Cdc20 mediated degradation of mitotic pro...     1.0\n",
       "Activation of APC/C and APC/C:Cdc20 mediated de...     1.0\n",
       "ABC transporter disorders                              1.0\n",
       "APC/C-mediated degradation of cell cycle proteins      1.0\n",
       "ABC-family proteins mediated transport                 1.0\n",
       "Adipogenesis                                           1.0\n",
       "Response to elevated platelet cytosolic Ca2+           1.0\n",
       "Adaptive Immune System                                 1.0\n",
       "Innate Immune System                                   1.0\n",
       "Immune System                                          1.0"
      ]
     },
     "execution_count": 15,
     "metadata": {},
     "output_type": "execute_result"
    }
   ],
   "source": [
    "df = roma.adata.uns['ROMA_stats']\n",
    "df"
   ]
  },
  {
   "cell_type": "code",
   "execution_count": null,
   "metadata": {},
   "outputs": [
    {
     "data": {
      "text/plain": [
       "ArrayView([[ 0.        , -0.09370423, -0.00818664, ..., -0.07202104,\n",
       "             0.        , -0.07216608],\n",
       "           [ 0.        , -0.09370423, -0.00818664, ...,  1.1963146 ,\n",
       "             0.        , -0.07216608],\n",
       "           [ 0.        , -0.09370423, -0.00818664, ..., -0.07202104,\n",
       "             0.        , -0.07216608],\n",
       "           ...,\n",
       "           [ 0.        , -0.09370423, -0.00818664, ..., -0.07202104,\n",
       "             0.        , -0.07216608],\n",
       "           [ 0.        , -0.09370423, -0.00818664, ..., -0.07202104,\n",
       "             0.        , -0.07216608],\n",
       "           [ 0.        , -0.09370423, -0.00818664, ..., -0.07202104,\n",
       "             0.        , -0.07216608]], dtype=float32)"
      ]
     },
     "execution_count": 26,
     "metadata": {},
     "output_type": "execute_result"
    }
   ],
   "source": [
    "roma.adata.uns['ROMA']['Immune System'].subset.X"
   ]
  },
  {
   "cell_type": "code",
   "execution_count": null,
   "metadata": {},
   "outputs": [
    {
     "data": {
      "text/plain": [
       "(1, 385)"
      ]
     },
     "execution_count": 28,
     "metadata": {},
     "output_type": "execute_result"
    }
   ],
   "source": [
    "roma.adata.uns['ROMA']['Immune System'].svd.components_.shape"
   ]
  },
  {
   "cell_type": "code",
   "execution_count": null,
   "metadata": {},
   "outputs": [
    {
     "name": "stdout",
     "output_type": "stream",
     "text": [
      "components.shape (385,) X.shape (357, 385)\n"
     ]
    },
    {
     "data": {
      "text/plain": [
       "(357,)"
      ]
     },
     "execution_count": 35,
     "metadata": {},
     "output_type": "execute_result"
    }
   ],
   "source": [
    "svd = roma.adata.uns['ROMA']['Immune System'].svd\n",
    "X = roma.adata.uns['ROMA']['Immune System'].X\n",
    "pc1 = svd.components_[0]\n",
    "print('components.shape', pc1.shape, 'X.shape', X.shape)\n",
    "\n",
    "X_pca = X @ pc1\n",
    "X_pca.shape"
   ]
  },
  {
   "cell_type": "code",
   "execution_count": null,
   "metadata": {},
   "outputs": [
    {
     "data": {
      "text/plain": [
       "(357, 2500)"
      ]
     },
     "execution_count": 40,
     "metadata": {},
     "output_type": "execute_result"
    }
   ],
   "source": [
    "adata.X.shape"
   ]
  },
  {
   "cell_type": "code",
   "execution_count": null,
   "metadata": {},
   "outputs": [
    {
     "data": {
      "text/plain": [
       "{'data': array([[5.1, 3.5, 1.4, 0.2],\n",
       "        [4.9, 3. , 1.4, 0.2],\n",
       "        [4.7, 3.2, 1.3, 0.2],\n",
       "        [4.6, 3.1, 1.5, 0.2],\n",
       "        [5. , 3.6, 1.4, 0.2],\n",
       "        [5.4, 3.9, 1.7, 0.4],\n",
       "        [4.6, 3.4, 1.4, 0.3],\n",
       "        [5. , 3.4, 1.5, 0.2],\n",
       "        [4.4, 2.9, 1.4, 0.2],\n",
       "        [4.9, 3.1, 1.5, 0.1],\n",
       "        [5.4, 3.7, 1.5, 0.2],\n",
       "        [4.8, 3.4, 1.6, 0.2],\n",
       "        [4.8, 3. , 1.4, 0.1],\n",
       "        [4.3, 3. , 1.1, 0.1],\n",
       "        [5.8, 4. , 1.2, 0.2],\n",
       "        [5.7, 4.4, 1.5, 0.4],\n",
       "        [5.4, 3.9, 1.3, 0.4],\n",
       "        [5.1, 3.5, 1.4, 0.3],\n",
       "        [5.7, 3.8, 1.7, 0.3],\n",
       "        [5.1, 3.8, 1.5, 0.3],\n",
       "        [5.4, 3.4, 1.7, 0.2],\n",
       "        [5.1, 3.7, 1.5, 0.4],\n",
       "        [4.6, 3.6, 1. , 0.2],\n",
       "        [5.1, 3.3, 1.7, 0.5],\n",
       "        [4.8, 3.4, 1.9, 0.2],\n",
       "        [5. , 3. , 1.6, 0.2],\n",
       "        [5. , 3.4, 1.6, 0.4],\n",
       "        [5.2, 3.5, 1.5, 0.2],\n",
       "        [5.2, 3.4, 1.4, 0.2],\n",
       "        [4.7, 3.2, 1.6, 0.2],\n",
       "        [4.8, 3.1, 1.6, 0.2],\n",
       "        [5.4, 3.4, 1.5, 0.4],\n",
       "        [5.2, 4.1, 1.5, 0.1],\n",
       "        [5.5, 4.2, 1.4, 0.2],\n",
       "        [4.9, 3.1, 1.5, 0.2],\n",
       "        [5. , 3.2, 1.2, 0.2],\n",
       "        [5.5, 3.5, 1.3, 0.2],\n",
       "        [4.9, 3.6, 1.4, 0.1],\n",
       "        [4.4, 3. , 1.3, 0.2],\n",
       "        [5.1, 3.4, 1.5, 0.2],\n",
       "        [5. , 3.5, 1.3, 0.3],\n",
       "        [4.5, 2.3, 1.3, 0.3],\n",
       "        [4.4, 3.2, 1.3, 0.2],\n",
       "        [5. , 3.5, 1.6, 0.6],\n",
       "        [5.1, 3.8, 1.9, 0.4],\n",
       "        [4.8, 3. , 1.4, 0.3],\n",
       "        [5.1, 3.8, 1.6, 0.2],\n",
       "        [4.6, 3.2, 1.4, 0.2],\n",
       "        [5.3, 3.7, 1.5, 0.2],\n",
       "        [5. , 3.3, 1.4, 0.2],\n",
       "        [7. , 3.2, 4.7, 1.4],\n",
       "        [6.4, 3.2, 4.5, 1.5],\n",
       "        [6.9, 3.1, 4.9, 1.5],\n",
       "        [5.5, 2.3, 4. , 1.3],\n",
       "        [6.5, 2.8, 4.6, 1.5],\n",
       "        [5.7, 2.8, 4.5, 1.3],\n",
       "        [6.3, 3.3, 4.7, 1.6],\n",
       "        [4.9, 2.4, 3.3, 1. ],\n",
       "        [6.6, 2.9, 4.6, 1.3],\n",
       "        [5.2, 2.7, 3.9, 1.4],\n",
       "        [5. , 2. , 3.5, 1. ],\n",
       "        [5.9, 3. , 4.2, 1.5],\n",
       "        [6. , 2.2, 4. , 1. ],\n",
       "        [6.1, 2.9, 4.7, 1.4],\n",
       "        [5.6, 2.9, 3.6, 1.3],\n",
       "        [6.7, 3.1, 4.4, 1.4],\n",
       "        [5.6, 3. , 4.5, 1.5],\n",
       "        [5.8, 2.7, 4.1, 1. ],\n",
       "        [6.2, 2.2, 4.5, 1.5],\n",
       "        [5.6, 2.5, 3.9, 1.1],\n",
       "        [5.9, 3.2, 4.8, 1.8],\n",
       "        [6.1, 2.8, 4. , 1.3],\n",
       "        [6.3, 2.5, 4.9, 1.5],\n",
       "        [6.1, 2.8, 4.7, 1.2],\n",
       "        [6.4, 2.9, 4.3, 1.3],\n",
       "        [6.6, 3. , 4.4, 1.4],\n",
       "        [6.8, 2.8, 4.8, 1.4],\n",
       "        [6.7, 3. , 5. , 1.7],\n",
       "        [6. , 2.9, 4.5, 1.5],\n",
       "        [5.7, 2.6, 3.5, 1. ],\n",
       "        [5.5, 2.4, 3.8, 1.1],\n",
       "        [5.5, 2.4, 3.7, 1. ],\n",
       "        [5.8, 2.7, 3.9, 1.2],\n",
       "        [6. , 2.7, 5.1, 1.6],\n",
       "        [5.4, 3. , 4.5, 1.5],\n",
       "        [6. , 3.4, 4.5, 1.6],\n",
       "        [6.7, 3.1, 4.7, 1.5],\n",
       "        [6.3, 2.3, 4.4, 1.3],\n",
       "        [5.6, 3. , 4.1, 1.3],\n",
       "        [5.5, 2.5, 4. , 1.3],\n",
       "        [5.5, 2.6, 4.4, 1.2],\n",
       "        [6.1, 3. , 4.6, 1.4],\n",
       "        [5.8, 2.6, 4. , 1.2],\n",
       "        [5. , 2.3, 3.3, 1. ],\n",
       "        [5.6, 2.7, 4.2, 1.3],\n",
       "        [5.7, 3. , 4.2, 1.2],\n",
       "        [5.7, 2.9, 4.2, 1.3],\n",
       "        [6.2, 2.9, 4.3, 1.3],\n",
       "        [5.1, 2.5, 3. , 1.1],\n",
       "        [5.7, 2.8, 4.1, 1.3],\n",
       "        [6.3, 3.3, 6. , 2.5],\n",
       "        [5.8, 2.7, 5.1, 1.9],\n",
       "        [7.1, 3. , 5.9, 2.1],\n",
       "        [6.3, 2.9, 5.6, 1.8],\n",
       "        [6.5, 3. , 5.8, 2.2],\n",
       "        [7.6, 3. , 6.6, 2.1],\n",
       "        [4.9, 2.5, 4.5, 1.7],\n",
       "        [7.3, 2.9, 6.3, 1.8],\n",
       "        [6.7, 2.5, 5.8, 1.8],\n",
       "        [7.2, 3.6, 6.1, 2.5],\n",
       "        [6.5, 3.2, 5.1, 2. ],\n",
       "        [6.4, 2.7, 5.3, 1.9],\n",
       "        [6.8, 3. , 5.5, 2.1],\n",
       "        [5.7, 2.5, 5. , 2. ],\n",
       "        [5.8, 2.8, 5.1, 2.4],\n",
       "        [6.4, 3.2, 5.3, 2.3],\n",
       "        [6.5, 3. , 5.5, 1.8],\n",
       "        [7.7, 3.8, 6.7, 2.2],\n",
       "        [7.7, 2.6, 6.9, 2.3],\n",
       "        [6. , 2.2, 5. , 1.5],\n",
       "        [6.9, 3.2, 5.7, 2.3],\n",
       "        [5.6, 2.8, 4.9, 2. ],\n",
       "        [7.7, 2.8, 6.7, 2. ],\n",
       "        [6.3, 2.7, 4.9, 1.8],\n",
       "        [6.7, 3.3, 5.7, 2.1],\n",
       "        [7.2, 3.2, 6. , 1.8],\n",
       "        [6.2, 2.8, 4.8, 1.8],\n",
       "        [6.1, 3. , 4.9, 1.8],\n",
       "        [6.4, 2.8, 5.6, 2.1],\n",
       "        [7.2, 3. , 5.8, 1.6],\n",
       "        [7.4, 2.8, 6.1, 1.9],\n",
       "        [7.9, 3.8, 6.4, 2. ],\n",
       "        [6.4, 2.8, 5.6, 2.2],\n",
       "        [6.3, 2.8, 5.1, 1.5],\n",
       "        [6.1, 2.6, 5.6, 1.4],\n",
       "        [7.7, 3. , 6.1, 2.3],\n",
       "        [6.3, 3.4, 5.6, 2.4],\n",
       "        [6.4, 3.1, 5.5, 1.8],\n",
       "        [6. , 3. , 4.8, 1.8],\n",
       "        [6.9, 3.1, 5.4, 2.1],\n",
       "        [6.7, 3.1, 5.6, 2.4],\n",
       "        [6.9, 3.1, 5.1, 2.3],\n",
       "        [5.8, 2.7, 5.1, 1.9],\n",
       "        [6.8, 3.2, 5.9, 2.3],\n",
       "        [6.7, 3.3, 5.7, 2.5],\n",
       "        [6.7, 3. , 5.2, 2.3],\n",
       "        [6.3, 2.5, 5. , 1.9],\n",
       "        [6.5, 3. , 5.2, 2. ],\n",
       "        [6.2, 3.4, 5.4, 2.3],\n",
       "        [5.9, 3. , 5.1, 1.8]]),\n",
       " 'target': array([0, 0, 0, 0, 0, 0, 0, 0, 0, 0, 0, 0, 0, 0, 0, 0, 0, 0, 0, 0, 0, 0,\n",
       "        0, 0, 0, 0, 0, 0, 0, 0, 0, 0, 0, 0, 0, 0, 0, 0, 0, 0, 0, 0, 0, 0,\n",
       "        0, 0, 0, 0, 0, 0, 1, 1, 1, 1, 1, 1, 1, 1, 1, 1, 1, 1, 1, 1, 1, 1,\n",
       "        1, 1, 1, 1, 1, 1, 1, 1, 1, 1, 1, 1, 1, 1, 1, 1, 1, 1, 1, 1, 1, 1,\n",
       "        1, 1, 1, 1, 1, 1, 1, 1, 1, 1, 1, 1, 2, 2, 2, 2, 2, 2, 2, 2, 2, 2,\n",
       "        2, 2, 2, 2, 2, 2, 2, 2, 2, 2, 2, 2, 2, 2, 2, 2, 2, 2, 2, 2, 2, 2,\n",
       "        2, 2, 2, 2, 2, 2, 2, 2, 2, 2, 2, 2, 2, 2, 2, 2, 2, 2]),\n",
       " 'frame': None,\n",
       " 'target_names': array(['setosa', 'versicolor', 'virginica'], dtype='<U10'),\n",
       " 'DESCR': '.. _iris_dataset:\\n\\nIris plants dataset\\n--------------------\\n\\n**Data Set Characteristics:**\\n\\n:Number of Instances: 150 (50 in each of three classes)\\n:Number of Attributes: 4 numeric, predictive attributes and the class\\n:Attribute Information:\\n    - sepal length in cm\\n    - sepal width in cm\\n    - petal length in cm\\n    - petal width in cm\\n    - class:\\n            - Iris-Setosa\\n            - Iris-Versicolour\\n            - Iris-Virginica\\n\\n:Summary Statistics:\\n\\n============== ==== ==== ======= ===== ====================\\n                Min  Max   Mean    SD   Class Correlation\\n============== ==== ==== ======= ===== ====================\\nsepal length:   4.3  7.9   5.84   0.83    0.7826\\nsepal width:    2.0  4.4   3.05   0.43   -0.4194\\npetal length:   1.0  6.9   3.76   1.76    0.9490  (high!)\\npetal width:    0.1  2.5   1.20   0.76    0.9565  (high!)\\n============== ==== ==== ======= ===== ====================\\n\\n:Missing Attribute Values: None\\n:Class Distribution: 33.3% for each of 3 classes.\\n:Creator: R.A. Fisher\\n:Donor: Michael Marshall (MARSHALL%PLU@io.arc.nasa.gov)\\n:Date: July, 1988\\n\\nThe famous Iris database, first used by Sir R.A. Fisher. The dataset is taken\\nfrom Fisher\\'s paper. Note that it\\'s the same as in R, but not as in the UCI\\nMachine Learning Repository, which has two wrong data points.\\n\\nThis is perhaps the best known database to be found in the\\npattern recognition literature.  Fisher\\'s paper is a classic in the field and\\nis referenced frequently to this day.  (See Duda & Hart, for example.)  The\\ndata set contains 3 classes of 50 instances each, where each class refers to a\\ntype of iris plant.  One class is linearly separable from the other 2; the\\nlatter are NOT linearly separable from each other.\\n\\n|details-start|\\n**References**\\n|details-split|\\n\\n- Fisher, R.A. \"The use of multiple measurements in taxonomic problems\"\\n  Annual Eugenics, 7, Part II, 179-188 (1936); also in \"Contributions to\\n  Mathematical Statistics\" (John Wiley, NY, 1950).\\n- Duda, R.O., & Hart, P.E. (1973) Pattern Classification and Scene Analysis.\\n  (Q327.D83) John Wiley & Sons.  ISBN 0-471-22361-1.  See page 218.\\n- Dasarathy, B.V. (1980) \"Nosing Around the Neighborhood: A New System\\n  Structure and Classification Rule for Recognition in Partially Exposed\\n  Environments\".  IEEE Transactions on Pattern Analysis and Machine\\n  Intelligence, Vol. PAMI-2, No. 1, 67-71.\\n- Gates, G.W. (1972) \"The Reduced Nearest Neighbor Rule\".  IEEE Transactions\\n  on Information Theory, May 1972, 431-433.\\n- See also: 1988 MLC Proceedings, 54-64.  Cheeseman et al\"s AUTOCLASS II\\n  conceptual clustering system finds 3 classes in the data.\\n- Many, many more ...\\n\\n|details-end|\\n',\n",
       " 'feature_names': ['sepal length (cm)',\n",
       "  'sepal width (cm)',\n",
       "  'petal length (cm)',\n",
       "  'petal width (cm)'],\n",
       " 'filename': 'iris.csv',\n",
       " 'data_module': 'sklearn.datasets.data'}"
      ]
     },
     "execution_count": 42,
     "metadata": {},
     "output_type": "execute_result"
    }
   ],
   "source": [
    "from sklearn import datasets\n",
    "\n",
    "iris = datasets.load_iris()\n",
    "\n",
    "iris"
   ]
  },
  {
   "cell_type": "code",
   "execution_count": null,
   "metadata": {},
   "outputs": [
    {
     "data": {
      "text/plain": [
       "(150, 4)"
      ]
     },
     "execution_count": 43,
     "metadata": {},
     "output_type": "execute_result"
    }
   ],
   "source": [
    "df = iris['data']\n",
    "df.shape"
   ]
  },
  {
   "cell_type": "code",
   "execution_count": null,
   "metadata": {},
   "outputs": [
    {
     "data": {
      "text/plain": [
       "array([[ 0.07714555,  0.07536535,  0.07094687,  0.07005971,  0.07506464,\n",
       "         0.07846242,  0.06712527,  0.07600174,  0.06700216,  0.07693885,\n",
       "         0.08194378,  0.07277702,  0.07528176,  0.06580841,  0.08711589,\n",
       "         0.08147002,  0.07743585,  0.07548846,  0.08568179,  0.07472441,\n",
       "         0.08347776,  0.07340754,  0.06707533,  0.07362466,  0.07354695,\n",
       "         0.07761932,  0.0729442 ,  0.07914288,  0.07922647,  0.0717168 ,\n",
       "         0.07379772,  0.07965029,  0.07875858,  0.08172666,  0.07528176,\n",
       "         0.07591228,  0.08385165,  0.07498105,  0.06640529,  0.07774243,\n",
       "         0.07349113,  0.0688705 ,  0.06572482,  0.06928978,  0.07409388,\n",
       "         0.07196757,  0.07663814,  0.06946283,  0.0802031 ,  0.07608533,\n",
       "         0.09982331,  0.08720883,  0.09727905,  0.07663574,  0.09056709,\n",
       "         0.07969916,  0.08398411,  0.06902619,  0.09528173,  0.06813903,\n",
       "         0.07264109,  0.07841595,  0.09065068,  0.08517786,  0.07530846,\n",
       "         0.09417157,  0.07396383,  0.08572479,  0.08712979,  0.08075351,\n",
       "         0.07430406,  0.08537869,  0.08887634,  0.08883228,  0.09103043,\n",
       "         0.09277112,  0.09795952,  0.09108037,  0.08126679,  0.08278449,\n",
       "         0.07909641,  0.08049687,  0.08189732,  0.08183002,  0.07048246,\n",
       "         0.07790854,  0.0932844 ,  0.09158778,  0.07625144,  0.07595528,\n",
       "         0.07829871,  0.08458098,  0.08249419,  0.07110711,  0.07752878,\n",
       "         0.07990586,  0.078589  ,  0.08754906,  0.06974031,  0.07867259,\n",
       "         0.07240661,  0.07337737,  0.09372451,  0.08434063,  0.08136667,\n",
       "         0.10422443,  0.06016601,  0.10354396,  0.09317758,  0.08730871,\n",
       "         0.0822039 ,  0.08433476,  0.08747589,  0.07040341,  0.06475167,\n",
       "         0.07600522,  0.08722512,  0.1018428 ,  0.10478178,  0.08493163,\n",
       "         0.08573521,  0.06738539,  0.10855931,  0.0832246 ,  0.0852278 ,\n",
       "         0.10001266,  0.08088704,  0.07872253,  0.08145026,  0.10349402,\n",
       "         0.1034545 ,  0.10786843,  0.07979317,  0.08836893,  0.08850833,\n",
       "         0.10136771,  0.0726969 ,  0.08514421,  0.07672521,  0.0886197 ,\n",
       "         0.08068034,  0.08453559,  0.07337737,  0.08450781,  0.07859942,\n",
       "         0.08165109,  0.08250461,  0.08314101,  0.07210003,  0.07575445],\n",
       "       [ 0.12097209,  0.09951521,  0.10997061,  0.0967809 ,  0.12409988,\n",
       "         0.12552124,  0.11226727,  0.1119822 ,  0.09140061,  0.09986453,\n",
       "         0.12718351,  0.10612011,  0.0992743 ,  0.10771811,  0.1549843 ,\n",
       "         0.15620891,  0.14232055,  0.12038186,  0.12464595,  0.1280588 ,\n",
       "         0.10690709,  0.12350965,  0.13757465,  0.09868407,  0.09352062,\n",
       "         0.09194669,  0.10660192,  0.1176034 ,  0.1178443 ,  0.09737113,\n",
       "         0.09424334,  0.11412629,  0.14194716,  0.15200908,  0.0992743 ,\n",
       "         0.11666384,  0.12849646,  0.12385897,  0.09955936,  0.11281334,\n",
       "         0.12375055,  0.07208781,  0.10747721,  0.10938038,  0.11066926,\n",
       "         0.09809385,  0.1244492 ,  0.10493965,  0.12635237,  0.11222311,\n",
       "        -0.02079019, -0.01796757, -0.03457014, -0.03889849, -0.03717196,\n",
       "        -0.03844075, -0.02382967, -0.00875689, -0.03120144, -0.0219466 ,\n",
       "        -0.0321611 , -0.01744161, -0.03693105, -0.04014717,  0.00248549,\n",
       "        -0.01464303, -0.03253449, -0.02299854, -0.05921907, -0.02476922,\n",
       "        -0.03649342, -0.01411707, -0.06331048, -0.04292564, -0.02026423,\n",
       "        -0.01943309, -0.04248798, -0.04557161, -0.03316888, -0.00258962,\n",
       "        -0.02535945, -0.02056939, -0.01577934, -0.06687592, -0.03419676,\n",
       "        -0.0139645 , -0.02783275, -0.04904872, -0.01455472, -0.03098064,\n",
       "        -0.0432308 , -0.03198842, -0.02393809, -0.01188468, -0.03063132,\n",
       "        -0.01733319, -0.02188234, -0.0219265 ,  0.00887356, -0.02164143,\n",
       "        -0.08373949, -0.07030887, -0.08240644, -0.07864427, -0.08378365,\n",
       "        -0.10764957, -0.0593275 , -0.09973172, -0.09955508, -0.06858234,\n",
       "        -0.04528655, -0.07372172, -0.06810053, -0.07544825, -0.0693011 ,\n",
       "        -0.05628803, -0.06882325, -0.07993711, -0.13643406, -0.08188047,\n",
       "        -0.06893167, -0.06020279, -0.11834588, -0.05716332, -0.06545456,\n",
       "        -0.0760866 , -0.0498357 , -0.04694882, -0.08354274, -0.07442434,\n",
       "        -0.09505008, -0.0644949 , -0.08413297, -0.05983337, -0.08982239,\n",
       "        -0.08699975, -0.06239103, -0.06569546, -0.04358013, -0.05911065,\n",
       "        -0.07094326, -0.04769162, -0.07030887, -0.07816246, -0.06781547,\n",
       "        -0.05751264, -0.06987122, -0.05740422, -0.05423228, -0.05701074]])"
      ]
     },
     "execution_count": 44,
     "metadata": {},
     "output_type": "execute_result"
    }
   ],
   "source": [
    "from sklearn.decomposition import IncrementalPCA\n",
    "svd = IncrementalPCA(n_components=2)\n",
    "svd.fit(df.T)\n",
    "\n",
    "svd.components_\n"
   ]
  },
  {
   "cell_type": "code",
   "execution_count": null,
   "metadata": {},
   "outputs": [
    {
     "data": {
      "text/plain": [
       "(2, 150)"
      ]
     },
     "execution_count": 45,
     "metadata": {},
     "output_type": "execute_result"
    }
   ],
   "source": [
    "svd.components_.shape"
   ]
  },
  {
   "cell_type": "code",
   "execution_count": null,
   "metadata": {},
   "outputs": [
    {
     "data": {
      "text/plain": [
       "array([0.85025771, 0.14746289])"
      ]
     },
     "execution_count": 46,
     "metadata": {},
     "output_type": "execute_result"
    }
   ],
   "source": [
    "svd.explained_variance_ratio_"
   ]
  },
  {
   "cell_type": "code",
   "execution_count": null,
   "metadata": {},
   "outputs": [
    {
     "name": "stdout",
     "output_type": "stream",
     "text": [
      "(2, 4)\n",
      "[0.92398758 0.05297912]\n"
     ]
    }
   ],
   "source": [
    "svd = IncrementalPCA(n_components=2)\n",
    "svd.fit(df)\n",
    "\n",
    "print(svd.components_.shape)\n",
    "print(svd.explained_variance_ratio_)"
   ]
  },
  {
   "cell_type": "code",
   "execution_count": null,
   "metadata": {},
   "outputs": [],
   "source": []
  },
  {
   "cell_type": "code",
   "execution_count": null,
   "metadata": {},
   "outputs": [],
   "source": []
  },
  {
   "cell_type": "code",
   "execution_count": null,
   "metadata": {},
   "outputs": [
    {
     "data": {
      "text/html": [
       "<div>\n",
       "<style scoped>\n",
       "    .dataframe tbody tr th:only-of-type {\n",
       "        vertical-align: middle;\n",
       "    }\n",
       "\n",
       "    .dataframe tbody tr th {\n",
       "        vertical-align: top;\n",
       "    }\n",
       "\n",
       "    .dataframe thead th {\n",
       "        text-align: right;\n",
       "    }\n",
       "</style>\n",
       "<table border=\"1\" class=\"dataframe\">\n",
       "  <thead>\n",
       "    <tr style=\"text-align: right;\">\n",
       "      <th></th>\n",
       "      <th>0</th>\n",
       "    </tr>\n",
       "  </thead>\n",
       "  <tbody>\n",
       "  </tbody>\n",
       "</table>\n",
       "</div>"
      ],
      "text/plain": [
       "Empty DataFrame\n",
       "Columns: [0]\n",
       "Index: []"
      ]
     },
     "execution_count": 23,
     "metadata": {},
     "output_type": "execute_result"
    }
   ],
   "source": [
    "df[df <= 0.9].dropna()"
   ]
  },
  {
   "cell_type": "code",
   "execution_count": null,
   "metadata": {},
   "outputs": [
    {
     "data": {
      "text/html": [
       "<div>\n",
       "<style scoped>\n",
       "    .dataframe tbody tr th:only-of-type {\n",
       "        vertical-align: middle;\n",
       "    }\n",
       "\n",
       "    .dataframe tbody tr th {\n",
       "        vertical-align: top;\n",
       "    }\n",
       "\n",
       "    .dataframe thead th {\n",
       "        text-align: right;\n",
       "    }\n",
       "</style>\n",
       "<table border=\"1\" class=\"dataframe\">\n",
       "  <thead>\n",
       "    <tr style=\"text-align: right;\">\n",
       "      <th></th>\n",
       "      <th>0</th>\n",
       "    </tr>\n",
       "  </thead>\n",
       "  <tbody>\n",
       "  </tbody>\n",
       "</table>\n",
       "</div>"
      ],
      "text/plain": [
       "Empty DataFrame\n",
       "Columns: [0]\n",
       "Index: []"
      ]
     },
     "execution_count": 21,
     "metadata": {},
     "output_type": "execute_result"
    }
   ],
   "source": [
    "df[df <= 0.5].dropna()"
   ]
  },
  {
   "cell_type": "code",
   "execution_count": null,
   "metadata": {},
   "outputs": [
    {
     "data": {
      "text/plain": [
       "{'Response to elevated platelet cytosolic Ca2+': GeneSetResult Response to elevated platelet cytosolic Ca2+,\n",
       " 'Adaptive Immune System': GeneSetResult Adaptive Immune System,\n",
       " 'Innate Immune System': GeneSetResult Innate Immune System,\n",
       " 'Immune System': GeneSetResult Immune System}"
      ]
     },
     "execution_count": 9,
     "metadata": {},
     "output_type": "execute_result"
    }
   ],
   "source": [
    "roma.adata.uns['pyROMA']"
   ]
  },
  {
   "cell_type": "code",
   "execution_count": null,
   "metadata": {},
   "outputs": [
    {
     "data": {
      "text/plain": [
       "GeneSetResult Immune System"
      ]
     },
     "execution_count": 10,
     "metadata": {},
     "output_type": "execute_result"
    }
   ],
   "source": [
    "roma.adata.uns['pyROMA']['Immune System']"
   ]
  },
  {
   "cell_type": "code",
   "execution_count": null,
   "metadata": {},
   "outputs": [
    {
     "data": {
      "text/plain": [
       "GeneSetResult Immune System"
      ]
     },
     "execution_count": 11,
     "metadata": {},
     "output_type": "execute_result"
    }
   ],
   "source": [
    "roma.adata.uns['pyROMA']['Immune System']"
   ]
  },
  {
   "cell_type": "code",
   "execution_count": null,
   "metadata": {},
   "outputs": [
    {
     "data": {
      "text/html": [
       "<div>\n",
       "<style scoped>\n",
       "    .dataframe tbody tr th:only-of-type {\n",
       "        vertical-align: middle;\n",
       "    }\n",
       "\n",
       "    .dataframe tbody tr th {\n",
       "        vertical-align: top;\n",
       "    }\n",
       "\n",
       "    .dataframe thead th {\n",
       "        text-align: right;\n",
       "    }\n",
       "</style>\n",
       "<table border=\"1\" class=\"dataframe\">\n",
       "  <thead>\n",
       "    <tr style=\"text-align: right;\">\n",
       "      <th></th>\n",
       "      <th>0</th>\n",
       "    </tr>\n",
       "  </thead>\n",
       "  <tbody>\n",
       "    <tr>\n",
       "      <th>Response to elevated platelet cytosolic Ca2+</th>\n",
       "      <td>0.606061</td>\n",
       "    </tr>\n",
       "    <tr>\n",
       "      <th>Adaptive Immune System</th>\n",
       "      <td>0.606061</td>\n",
       "    </tr>\n",
       "    <tr>\n",
       "      <th>Innate Immune System</th>\n",
       "      <td>1.000000</td>\n",
       "    </tr>\n",
       "    <tr>\n",
       "      <th>Immune System</th>\n",
       "      <td>0.606061</td>\n",
       "    </tr>\n",
       "  </tbody>\n",
       "</table>\n",
       "</div>"
      ],
      "text/plain": [
       "                                                     0\n",
       "Response to elevated platelet cytosolic Ca2+  0.606061\n",
       "Adaptive Immune System                        0.606061\n",
       "Innate Immune System                          1.000000\n",
       "Immune System                                 0.606061"
      ]
     },
     "execution_count": 17,
     "metadata": {},
     "output_type": "execute_result"
    }
   ],
   "source": [
    "import pandas as pd\n",
    "\n",
    "df_dict = {}\n",
    "for k, v in roma.adata.uns['pyROMA'].items():\n",
    "    df_dict[k] = v.p_value\n",
    "\n",
    "pd.Series(df_dict).to_frame()"
   ]
  },
  {
   "cell_type": "code",
   "execution_count": null,
   "metadata": {},
   "outputs": [
    {
     "data": {
      "text/plain": [
       "{30: [(0.2026695,\n",
       "   0.13490455,\n",
       "   0.12173574,\n",
       "   0.14036767,\n",
       "   0.17715885,\n",
       "   0.23610955,\n",
       "   0.13170254,\n",
       "   0.17409201,\n",
       "   0.22179629,\n",
       "   0.14500819)],\n",
       " 165: [(0.05426835,\n",
       "   0.04783073,\n",
       "   0.05403206,\n",
       "   0.057529982,\n",
       "   0.05179842,\n",
       "   0.0574047,\n",
       "   0.05688788,\n",
       "   0.05325689,\n",
       "   0.05689815,\n",
       "   0.055830475)],\n",
       " 385: [(0.032927223,\n",
       "   0.041107308,\n",
       "   0.03718031,\n",
       "   0.037062436,\n",
       "   0.029959802,\n",
       "   0.032034807,\n",
       "   0.033347208,\n",
       "   0.02990949,\n",
       "   0.028319394,\n",
       "   0.03429491)]}"
      ]
     },
     "execution_count": 11,
     "metadata": {},
     "output_type": "execute_result"
    }
   ],
   "source": [
    "roma.null_distributions"
   ]
  },
  {
   "cell_type": "code",
   "execution_count": null,
   "metadata": {},
   "outputs": [
    {
     "data": {
      "text/plain": [
       "(0.2026695,\n",
       " 0.13490455,\n",
       " 0.12173574,\n",
       " 0.14036767,\n",
       " 0.17715885,\n",
       " 0.23610955,\n",
       " 0.13170254,\n",
       " 0.17409201,\n",
       " 0.22179629,\n",
       " 0.14500819)"
      ]
     },
     "execution_count": 13,
     "metadata": {},
     "output_type": "execute_result"
    }
   ],
   "source": [
    "roma.null_distributions[30][0]"
   ]
  },
  {
   "cell_type": "code",
   "execution_count": null,
   "metadata": {},
   "outputs": [],
   "source": []
  },
  {
   "cell_type": "code",
   "execution_count": null,
   "metadata": {},
   "outputs": [],
   "source": []
  },
  {
   "cell_type": "code",
   "execution_count": null,
   "metadata": {},
   "outputs": [],
   "source": []
  },
  {
   "cell_type": "code",
   "execution_count": null,
   "metadata": {},
   "outputs": [],
   "source": []
  },
  {
   "cell_type": "code",
   "execution_count": null,
   "metadata": {},
   "outputs": [],
   "source": []
  },
  {
   "cell_type": "code",
   "execution_count": null,
   "metadata": {},
   "outputs": [],
   "source": []
  },
  {
   "cell_type": "code",
   "execution_count": null,
   "metadata": {},
   "outputs": [],
   "source": []
  }
 ],
 "metadata": {
  "kernelspec": {
   "display_name": "vega",
   "language": "python",
   "name": "python3"
  },
  "language_info": {
   "codemirror_mode": {
    "name": "ipython",
    "version": 3
   },
   "file_extension": ".py",
   "mimetype": "text/x-python",
   "name": "python",
   "nbconvert_exporter": "python",
   "pygments_lexer": "ipython3",
   "version": "3.9.19"
  }
 },
 "nbformat": 4,
 "nbformat_minor": 2
}
